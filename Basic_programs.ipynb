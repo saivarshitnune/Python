{
  "nbformat": 4,
  "nbformat_minor": 0,
  "metadata": {
    "colab": {
      "provenance": [],
      "authorship_tag": "ABX9TyMJ2cavzN9cI0rBVyO3NNl4",
      "include_colab_link": true
    },
    "kernelspec": {
      "name": "python3",
      "display_name": "Python 3"
    },
    "language_info": {
      "name": "python"
    }
  },
  "cells": [
    {
      "cell_type": "markdown",
      "metadata": {
        "id": "view-in-github",
        "colab_type": "text"
      },
      "source": [
        "<a href=\"https://colab.research.google.com/github/saivarshitnune/Python/blob/main/Basic_programs.ipynb\" target=\"_parent\"><img src=\"https://colab.research.google.com/assets/colab-badge.svg\" alt=\"Open In Colab\"/></a>"
      ]
    },
    {
      "cell_type": "markdown",
      "source": [
        "**Design a Python class called PrimeGenerator that can generate all prime numbers up to a given limit. The class should include methods to check if a number is prime, generate prime numbers, and retrieve the list of generated primes. Also, implement a method to handle user input for the upper limit. Finally, create a main function that demonstrates the usage of this class by asking the user for an upper limit, generating primes up to that limit, and displaying the results.**"
      ],
      "metadata": {
        "id": "AJDbqPpvLUQ5"
      }
    },
    {
      "cell_type": "code",
      "execution_count": null,
      "metadata": {
        "id": "RnWIUnQIK_Zv",
        "colab": {
          "base_uri": "https://localhost:8080/"
        },
        "outputId": "90f6fb4c-1551-4fb8-ecd6-a80ebb602ac5"
      },
      "outputs": [
        {
          "output_type": "stream",
          "name": "stdout",
          "text": [
            "Enter the upper limit to generate prime numbers30\n",
            "Prime numbers up to 30: [2, 3, 5, 7, 11, 13, 17, 19, 23, 29]\n"
          ]
        }
      ],
      "source": [
        "class PrimeGenerator:\n",
        "  def __init__(self):\n",
        "    self.primes=[]\n",
        "  def isprime(self,num):\n",
        "    if num<2:\n",
        "      return False\n",
        "    else:\n",
        "      for i in range(2,int(num**0.5)+1):\n",
        "        if num%i==0:\n",
        "          return False\n",
        "      return True\n",
        "\n",
        "  def generate_primes(self,limit):\n",
        "    self.primes=[i for i in range(2,limit+1) if self.isprime(i)]\n",
        "\n",
        "  def get_primes(self):\n",
        "    return self.primes\n",
        "\n",
        "  def set_limit_and_generate(self):\n",
        "    try:\n",
        "      limit=int(input('Enter the upper limit to generate prime numbers'))\n",
        "      if limit<2:\n",
        "        return False\n",
        "      else:\n",
        "        self.generate_primes(limit)\n",
        "        print(f\"Prime numbers up to {limit}: {self.get_primes()}\")\n",
        "    except ValueError:\n",
        "      print('Invalid integer')\n",
        "\n",
        "def main():\n",
        "  prime_gen = PrimeGenerator()\n",
        "  prime_gen.set_limit_and_generate()\n",
        "\n",
        "if __name__ == '__main__':\n",
        "  main()\n",
        "\n",
        "\n",
        "\n",
        "\n",
        "\n",
        "\n",
        "\n"
      ]
    },
    {
      "cell_type": "markdown",
      "source": [
        "**List reversal with in a class**"
      ],
      "metadata": {
        "id": "ER6A72GJfuCp"
      }
    },
    {
      "cell_type": "code",
      "source": [
        "class ListManipulator:\n",
        "    def reverse_list(self,input):\n",
        "      out=input[::-1]\n",
        "      return out\n",
        "\n",
        "    def display_reverse_list(self,input):\n",
        "      print(self.reverse_list(input))\n",
        "\n",
        "\n",
        "def main():\n",
        "  list_manipulator = ListManipulator()\n",
        "  input = [1, 2, 3, 4, 5]\n",
        "  list_manipulator.display_reverse_list(input)\n",
        "\n",
        "if __name__ == '__main__':\n",
        "  main()\n",
        "\n"
      ],
      "metadata": {
        "colab": {
          "base_uri": "https://localhost:8080/"
        },
        "id": "pd-d4SMYe_LB",
        "outputId": "00910185-4a87-4779-c8a5-e524b99f2f32"
      },
      "execution_count": null,
      "outputs": [
        {
          "output_type": "stream",
          "name": "stdout",
          "text": [
            "[5, 4, 3, 2, 1]\n"
          ]
        }
      ]
    },
    {
      "cell_type": "markdown",
      "source": [
        "**Note**:-\n",
        "The __init__ constructor is used when you want to initialize instance attributes when an object of the class is created. This is useful when you need to store some data or set up a specific state for the object upon creation."
      ],
      "metadata": {
        "id": "S2YAUPqhjGy6"
      }
    },
    {
      "cell_type": "markdown",
      "source": [
        "** List Sorting with a Class**\n",
        "Bubble Sort"
      ],
      "metadata": {
        "id": "box4dzcSjUsm"
      }
    },
    {
      "cell_type": "code",
      "source": [
        "class ListSorter:\n",
        "  def sort_list(self,lst):\n",
        "    n = len(lst)\n",
        "    for i in range(n):\n",
        "      for j in range(0,n-i-1):\n",
        "        if lst[j]>lst[j+1]:\n",
        "          lst[j],lst[j+1]=lst[j+1],lst[j]\n",
        "    return lst\n",
        "\n",
        "  def sort_in_descending_order(self,lst):\n",
        "    return self.sort_list(lst[::-1])\n",
        "\n",
        "listsorter = ListSorter()\n",
        "lst = [9,5,2,3]\n",
        "listsorter.sort_list(lst)\n",
        "\n",
        "\n"
      ],
      "metadata": {
        "id": "hI-_4wIXg7D4",
        "colab": {
          "base_uri": "https://localhost:8080/"
        },
        "outputId": "f0dff754-4961-4de2-a18b-593e9529754a"
      },
      "execution_count": null,
      "outputs": [
        {
          "output_type": "execute_result",
          "data": {
            "text/plain": [
              "[2, 3, 5, 9]"
            ]
          },
          "metadata": {},
          "execution_count": 18
        }
      ]
    },
    {
      "cell_type": "markdown",
      "source": [
        "**Maximum element in a list**"
      ],
      "metadata": {
        "id": "q9Nk3qZo3hhR"
      }
    },
    {
      "cell_type": "code",
      "source": [
        "class ListAnalyzer:\n",
        "  def find_maximum(self,lst):\n",
        "    max=lst[0]\n",
        "    for i in range(len(lst)):\n",
        "      if lst[i]>max:\n",
        "        max=lst[i]\n",
        "    return max\n",
        "\n",
        "  def display_max(self,lst):\n",
        "    return self.find_maximum(lst)\n",
        "\n",
        "lst=[2,3,5,9]\n",
        "lstanalyser = ListAnalyzer()\n",
        "lstanalyser.display_max(lst)\n",
        "\n",
        "\n",
        "\n"
      ],
      "metadata": {
        "colab": {
          "base_uri": "https://localhost:8080/"
        },
        "id": "emAB0WB6wClE",
        "outputId": "a4193b8d-3725-405d-d69c-b15d72469d45"
      },
      "execution_count": null,
      "outputs": [
        {
          "output_type": "execute_result",
          "data": {
            "text/plain": [
              "9"
            ]
          },
          "metadata": {},
          "execution_count": 19
        }
      ]
    },
    {
      "cell_type": "markdown",
      "source": [
        "**Sum of elements in a list**"
      ],
      "metadata": {
        "id": "yJtzjcOF5HYN"
      }
    },
    {
      "cell_type": "code",
      "source": [
        "class SumElements:\n",
        "  def ListSum(self,input):\n",
        "    sum=0\n",
        "    for i in range(len(input)):\n",
        "      sum+=input[i]\n",
        "    return sum\n",
        "\n",
        "  def DisplaySum(self,input):\n",
        "    return self.ListSum(input)\n",
        "\n",
        "lst = [2,3,5,9]\n",
        "sum_elements = SumElements()\n",
        "sum_elements.DisplaySum(lst)"
      ],
      "metadata": {
        "colab": {
          "base_uri": "https://localhost:8080/"
        },
        "id": "LnKKyQ2a5ELM",
        "outputId": "3a7dd5f7-331e-43a2-ec67-06bd86e09872"
      },
      "execution_count": null,
      "outputs": [
        {
          "output_type": "execute_result",
          "data": {
            "text/plain": [
              "19"
            ]
          },
          "metadata": {},
          "execution_count": 21
        }
      ]
    },
    {
      "cell_type": "markdown",
      "source": [
        "**Remove Duplicates from a List**"
      ],
      "metadata": {
        "id": "Eb4ifNjO6Nn7"
      }
    },
    {
      "cell_type": "code",
      "source": [
        "class DuplicateRemover:\n",
        "  def __init__(self):\n",
        "    self.lst=[]\n",
        "\n",
        "  def remove_duplicates(self,input):\n",
        "    for i in range(len(input)):\n",
        "      if input[i] not in self.lst:\n",
        "        self.lst.append(input[i])\n",
        "    return self.lst\n",
        "\n",
        "  def display_list(self,input):\n",
        "    return self.remove_duplicates(input)\n",
        "\n",
        "dpr = DuplicateRemover()\n",
        "lst = [1, 2, 2, 3, 4, 4, 5]\n",
        "dpr.display_list(lst)"
      ],
      "metadata": {
        "colab": {
          "base_uri": "https://localhost:8080/"
        },
        "id": "mvFMic6i5xz-",
        "outputId": "d34589e2-b5c6-4f81-921f-eddb4ee46b3b"
      },
      "execution_count": null,
      "outputs": [
        {
          "output_type": "execute_result",
          "data": {
            "text/plain": [
              "[1, 2, 3, 4, 5]"
            ]
          },
          "metadata": {},
          "execution_count": 23
        }
      ]
    },
    {
      "cell_type": "markdown",
      "source": [
        "***Merge Two Lists***"
      ],
      "metadata": {
        "id": "yZO-_6YB-S8f"
      }
    },
    {
      "cell_type": "code",
      "source": [
        "class ListMerger:\n",
        "  def merge_lists(self,lst1,lst2):\n",
        "    for i in (lst2):\n",
        "      if i not in lst1:\n",
        "        lst1.append(i)\n",
        "    return lst1\n",
        "\n",
        "lstmr = ListMerger()\n",
        "lst1 = [1, 3, 5]\n",
        "lst2 = [2, 3, 6]\n",
        "lstmr.merge_lists(lst1,lst2)\n",
        "\n",
        "\n"
      ],
      "metadata": {
        "colab": {
          "base_uri": "https://localhost:8080/"
        },
        "id": "DOhgSRv28E_3",
        "outputId": "d01a2401-b38c-415f-d868-327f4bba9d11"
      },
      "execution_count": null,
      "outputs": [
        {
          "output_type": "execute_result",
          "data": {
            "text/plain": [
              "[1, 3, 5, 2, 6]"
            ]
          },
          "metadata": {},
          "execution_count": 27
        }
      ]
    },
    {
      "cell_type": "markdown",
      "source": [
        "**Palindrome checker**"
      ],
      "metadata": {
        "id": "2vVf1dN1E_fh"
      }
    },
    {
      "cell_type": "code",
      "source": [
        "class PalindromeChecker:\n",
        "  def is_palindrome(self,num):\n",
        "    original_num = num\n",
        "    rev = 0\n",
        "    while num>0:\n",
        "      rem = num%10\n",
        "      rev=rev*10+rem\n",
        "      num=num//10\n",
        "    if original_num == rev:\n",
        "      print('is a palindrome')\n",
        "    else:\n",
        "      print('Not a palindrome')\n",
        "\n",
        "palindromechecker = PalindromeChecker()\n",
        "palindromechecker.is_palindrome(121)"
      ],
      "metadata": {
        "colab": {
          "base_uri": "https://localhost:8080/"
        },
        "id": "fDwiJHr8_3uW",
        "outputId": "7dbadd6f-00af-4300-e187-bdd0bacda524"
      },
      "execution_count": null,
      "outputs": [
        {
          "output_type": "stream",
          "name": "stdout",
          "text": [
            "is a palindrome\n"
          ]
        }
      ]
    },
    {
      "cell_type": "markdown",
      "source": [
        "**Fabinoci generator**"
      ],
      "metadata": {
        "id": "RNgs6BoQKymX"
      }
    },
    {
      "cell_type": "code",
      "source": [
        "class FabinociGenerator:\n",
        "  def fabinoci_sequence(self,num:int):\n",
        "    fib_series = [0,1]\n",
        "    for i in range(2,num):\n",
        "      fib_series.append(fib_series[-1]+fib_series[-2])\n",
        "    return fib_series\n",
        "\n",
        "generator = FabinociGenerator()\n",
        "generator.fabinoci_sequence(10)"
      ],
      "metadata": {
        "colab": {
          "base_uri": "https://localhost:8080/"
        },
        "id": "W-ryiLpMHfp6",
        "outputId": "2b89a812-6e67-4d49-9846-911bc497bc14"
      },
      "execution_count": null,
      "outputs": [
        {
          "output_type": "execute_result",
          "data": {
            "text/plain": [
              "[0, 1, 1, 2, 3, 5, 8, 13, 21, 34]"
            ]
          },
          "metadata": {},
          "execution_count": 37
        }
      ]
    },
    {
      "cell_type": "markdown",
      "source": [
        "**Factorial calculator**"
      ],
      "metadata": {
        "id": "mzF4-Oi0MttF"
      }
    },
    {
      "cell_type": "code",
      "source": [
        "class FactorialCalculator:\n",
        "    def calculate_factorial(self, n: int) -> int:\n",
        "        if n == 0 or n == 1:\n",
        "            return 1\n",
        "        else:\n",
        "            return n * self.calculate_factorial(n - 1)\n",
        "\n",
        "# Create an instance and calculate factorial\n",
        "calculator = FactorialCalculator()\n",
        "print(calculator.calculate_factorial(5))  # Output: 120\n",
        "print(calculator.calculate_factorial(7))  # Output: 5040\n"
      ],
      "metadata": {
        "colab": {
          "base_uri": "https://localhost:8080/"
        },
        "id": "-ETWc_LKMSBN",
        "outputId": "5c5e534f-f7b9-4872-f520-ee534c0eafb2"
      },
      "execution_count": null,
      "outputs": [
        {
          "output_type": "stream",
          "name": "stdout",
          "text": [
            "120\n",
            "5040\n"
          ]
        }
      ]
    },
    {
      "cell_type": "code",
      "source": [],
      "metadata": {
        "id": "RsqTddiGN1xc"
      },
      "execution_count": null,
      "outputs": []
    }
  ]
}