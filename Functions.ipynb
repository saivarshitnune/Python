{
 "cells": [
  {
   "cell_type": "code",
   "execution_count": null,
   "id": "5b2096c5",
   "metadata": {},
   "outputs": [],
   "source": [
    "def is_even(num):\n",
    "    return True if num % 2 == 0 else False\n",
    "def filter_num(is_even,seq):\n",
    "    seq = [10,11,12,13,14,15,16,17,18,19] \n",
    "    out = []\n",
    "    for i in seq:\n",
    "        if is_even(i) == True:\n",
    "            out.append(i)\n",
    "    return out\n",
    "filter_num(is_even,seq)"
   ]
  },
  {
   "cell_type": "code",
   "execution_count": null,
   "id": "0a2e6809",
   "metadata": {},
   "outputs": [],
   "source": [
    "list(filter(lambda num:num%2==0,[10,11,12,13,14,15,16,17,18,19]))"
   ]
  },
  {
   "cell_type": "code",
   "execution_count": null,
   "id": "0585694d",
   "metadata": {},
   "outputs": [],
   "source": [
    "print(list(map(lambda num:num*2 ,[10,11,12,13,14,15,16,17,18,19])))"
   ]
  },
  {
   "cell_type": "code",
   "execution_count": null,
   "id": "561ad37a",
   "metadata": {},
   "outputs": [],
   "source": [
    "from functools import reduce \n",
    "s = reduce(lambda x,y:x+y,seq) #seq = [10,11,12,13,14,15,16,17,18,19]\n",
    "print(s)"
   ]
  },
  {
   "cell_type": "code",
   "execution_count": null,
   "id": "284aa8ac",
   "metadata": {},
   "outputs": [],
   "source": [
    "max = reduce(lambda x,y:x if x>y else y,[10,11,12,13,14,15,16,17,18,19])\n",
    "print(max)"
   ]
  },
  {
   "cell_type": "code",
   "execution_count": null,
   "id": "ea0ed1f3",
   "metadata": {},
   "outputs": [],
   "source": [
    "#Assignment \n",
    "#1-Write a function getBiggerNumber(x, y) that takes in two numbers as arguments and returns the bigger number.\n",
    "\n",
    "def getBiggerNumber(x, y):\n",
    "    if x>y:\n",
    "        return x\n",
    "    else:\n",
    "        return y\n",
    "getBiggerNumber(10,20)\n"
   ]
  },
  {
   "cell_type": "code",
   "execution_count": null,
   "id": "840ba7a1",
   "metadata": {},
   "outputs": [],
   "source": [
    "#Calculate the square root of 16 and stores it in the variable a using import math \n",
    "//import math\n",
    "a=math.sqrt(16)\n",
    "print(a)//\n",
    "\n",
    "//def sqrt(n):\n",
    "    a=n**0.5\n",
    "    print(\"Square root  is\",a)\n",
    "sqrt(16)//"
   ]
  },
  {
   "cell_type": "code",
   "execution_count": null,
   "id": "2f035dc1",
   "metadata": {},
   "outputs": [],
   "source": [
    "#import math\n",
    "#b=math.pow(3,5)\n",
    "#print(b)\n",
    "\n",
    "#def pow(x,y):\n",
    "#    a=x**y\n",
    "#    print(a)\n",
    "#pow(3,5)"
   ]
  },
  {
   "cell_type": "code",
   "execution_count": null,
   "id": "4914577c",
   "metadata": {},
   "outputs": [],
   "source": [
    "#import math\n",
    "#c=math.pi*3*3\n",
    "#print(c)\n",
    "\n",
    "#def AOC(r):\n",
    "#    c=3.14*r*r\n",
    "#    print(c)\n",
    "#AOC(3)"
   ]
  },
  {
   "cell_type": "code",
   "execution_count": null,
   "id": "26e8f743",
   "metadata": {},
   "outputs": [],
   "source": [
    "def Cel2Fah(x):\n",
    "    f=9*x/5+32\n",
    "    return str(f)\n",
    "Cel2Fah(28.0)"
   ]
  },
  {
   "cell_type": "code",
   "execution_count": null,
   "id": "65d8fc77",
   "metadata": {},
   "outputs": [],
   "source": [
    "def percent(value,total):\n",
    "    c=(value/total)*100\n",
    "    return int(c)\n",
    "percent(46,90)\n"
   ]
  },
  {
   "cell_type": "code",
   "execution_count": null,
   "id": "4657b29e",
   "metadata": {},
   "outputs": [],
   "source": [
    "def hypotenuse(x,y): \n",
    "    c=(x*x+y*y)**0.5\n",
    "    return int(c)\n",
    "hypotenuse(3,4)"
   ]
  },
  {
   "cell_type": "code",
   "execution_count": null,
   "id": "9e19fb60",
   "metadata": {},
   "outputs": [],
   "source": [
    "# Write a function getSumOfLastDigits() that takes in a list of positive numbers and returns the sum of all the last digits in the list.\n",
    "# getSumOfLastDigits([2, 3, 4])\n",
    "# 9\n",
    "# getSumOfLastDigits([1, 23, 456])\n",
    "# 10\n",
    "\n",
    "# def getSumOfLastDigits(X):\n",
    "#         num=0\n",
    "#         for i in X:\n",
    "#             if(i<10):\n",
    "#                 num+=i\n",
    "#             else:\n",
    "#                 num+=i%10\n",
    "#         print(num)\n",
    "# X=eval(input(\"Enter a list\"))\n",
    "# getSumOfLastDigits(X)"
   ]
  },
  {
   "cell_type": "code",
   "execution_count": null,
   "id": "94f3159a",
   "metadata": {},
   "outputs": [],
   "source": [
    "eval"
   ]
  },
  {
   "cell_type": "code",
   "execution_count": null,
   "id": "7daa3eb4",
   "metadata": {},
   "outputs": [],
   "source": [
    "def quadratic(a,b,c):\n",
    "    d=(b*b-4*a*c)\n",
    "    print(d)\n",
    "quadratic(1,2,3)\n",
    "    "
   ]
  },
  {
   "cell_type": "code",
   "execution_count": null,
   "id": "035ecab6",
   "metadata": {},
   "outputs": [],
   "source": [
    "def addFirstAndLast(x):\n",
    "    k=x[0]+x[-1]\n",
    "    print(k)\n",
    "x=eval(input(\"Enter a list\"))\n",
    "addFirstAndLast(x)\n"
   ]
  },
  {
   "cell_type": "code",
   "execution_count": null,
   "id": "83adc9ef",
   "metadata": {},
   "outputs": [],
   "source": [
    "#s=(lambda num:num%2==0)\n",
    "#s(5)"
   ]
  },
  {
   "cell_type": "code",
   "execution_count": null,
   "id": "41ea52e6",
   "metadata": {},
   "outputs": [],
   "source": [
    "def addOne(X):\n",
    "    return X+1\n",
    "def useFunction(addOne, 4):\n",
    "    k=addOne+4\n",
    "    print(k)\n",
    "addOne(20)"
   ]
  },
  {
   "cell_type": "code",
   "execution_count": null,
   "id": "6eb6e10a",
   "metadata": {},
   "outputs": [],
   "source": [
    "# def findmax(x,y,z):\n",
    "#     if(x>y and x>z):\n",
    "#         return x\n",
    "#     elif(y>x and y>z):\n",
    "#         return y\n",
    "#     else:\n",
    "#         return z\n",
    "# findmax(21,87,92)\n",
    "    "
   ]
  },
  {
   "cell_type": "code",
   "execution_count": null,
   "id": "7071cb50",
   "metadata": {},
   "outputs": [],
   "source": [
    "# def is_vowel(x):\n",
    "#     if(x==\"a\" or x== \"e\" or x== \"i\" or x==\"o\" or x==\"u\"):\n",
    "#         return True\n",
    "#     else:\n",
    "#         return False\n",
    "# is_vowel(\"d\")\n",
    "    "
   ]
  },
  {
   "cell_type": "code",
   "execution_count": null,
   "id": "19a3847e",
   "metadata": {},
   "outputs": [],
   "source": [
    "# def main(z):\n",
    "#     k=0\n",
    "#     for x in z:\n",
    "#         if(x==\"a\" or x== \"e\" or x== \"i\" or x==\"o\" or x==\"u\"):\n",
    "#            k+=1\n",
    "#     print(k)\n",
    "# z=eval(input(\"Enter a string\"))\n",
    "# main(z)\n",
    "#Note:- How to avoid the case sensitive issue in the code"
   ]
  },
  {
   "cell_type": "code",
   "execution_count": null,
   "id": "017f33c7",
   "metadata": {},
   "outputs": [],
   "source": [
    "def is_prime(x):\n",
    "    if x>1:\n",
    "        for i in range(2,x):\n",
    "            if(x%i!=0):\n",
    "                print(x,\"is a prime number\")\n",
    "                break\n",
    "            else:\n",
    "                print(x,\"is not a prime number\")\n",
    "    else:\n",
    "        print(x,\"is not a prime number\")\n",
    "is_prime(7)"
   ]
  },
  {
   "cell_type": "code",
   "execution_count": null,
   "id": "3d2cfe35",
   "metadata": {},
   "outputs": [],
   "source": [
    "#  write the main function that displays prime numbers between 1 to 500.\n",
    "def main(x,y):\n",
    "    for i in range(x,y+1):\n",
    "        if i>1:\n",
    "            for k in range(2,i):\n",
    "                if(i%k==0):\n",
    "                    break\n",
    "            else:\n",
    "                print(i)\n",
    "main(1,500)\n",
    "    "
   ]
  },
  {
   "cell_type": "code",
   "execution_count": null,
   "id": "01b7c05e",
   "metadata": {},
   "outputs": [],
   "source": [
    "# Write a function in python to find the sum of the cube of elements in a list.\n",
    "# The list is received as an argument to the function, in turn, the function must return the sum.\n",
    "def Sum_lst(x):\n",
    "    k=0\n",
    "    for i in x:\n",
    "        k+=i*i*i\n",
    "    return k\n",
    "Sum_lst([2,3,4])\n",
    "    "
   ]
  },
  {
   "cell_type": "code",
   "execution_count": null,
   "id": "135747bb",
   "metadata": {},
   "outputs": [],
   "source": [
    "# def zero_ending(scores):\n",
    "#     k=0\n",
    "#     for i in scores:\n",
    "#         if(i%5==0):\n",
    "#             k+=i\n",
    "#     return k\n",
    "# zero_ending([200, 456, 300, 100, 234, 678])"
   ]
  },
  {
   "cell_type": "code",
   "execution_count": null,
   "id": "41ff8fbf",
   "metadata": {},
   "outputs": [],
   "source": [
    "# def zero_ending(scores):\n",
    "#     k=0\n",
    "#     for i in scores:\n",
    "#         v=str(i)\n",
    "#         if(v[-1]=='0'):\n",
    "#             k+=i\n",
    "#     return k\n",
    "# zero_ending([200, 456, 300, 100, 234, 678])"
   ]
  },
  {
   "cell_type": "code",
   "execution_count": null,
   "id": "08dbca9e",
   "metadata": {},
   "outputs": [],
   "source": [
    "# def Number(places):\n",
    "#     count=0\n",
    "#     for i in places:\n",
    "#         for k in i:\n",
    "#             count+=1\n",
    "#     if(count>5):\n",
    "#         print(i)\n",
    "# Number([\"DELHI\",\"LONDON\",\"PARIS\",\"NEW YORK\",\"DUBAI\"])"
   ]
  },
  {
   "cell_type": "code",
   "execution_count": null,
   "id": "c33f0492",
   "metadata": {},
   "outputs": [],
   "source": [
    "def Number(places):\n",
    "    for i in places:\n",
    "        if (len(i)>5):\n",
    "            print(i)\n",
    "Number([\"DELHI\",\"LONDON\",\"PARIS\",\"NEW YORK\",\"DUBAI\"])"
   ]
  },
  {
   "cell_type": "code",
   "execution_count": 2,
   "id": "24fc288a",
   "metadata": {},
   "outputs": [
    {
     "ename": "SyntaxError",
     "evalue": "invalid character in identifier (<ipython-input-2-e3696c5ce9ec>, line 7)",
     "output_type": "error",
     "traceback": [
      "\u001b[1;36m  File \u001b[1;32m\"<ipython-input-2-e3696c5ce9ec>\"\u001b[1;36m, line \u001b[1;32m7\u001b[0m\n\u001b[1;33m    method([‘41’,‘DROND’,‘GIRIRAJ’, ‘13’,‘ZARA’])\u001b[0m\n\u001b[1;37m               ^\u001b[0m\n\u001b[1;31mSyntaxError\u001b[0m\u001b[1;31m:\u001b[0m invalid character in identifier\n"
     ]
    }
   ],
   "source": [
    "def method(x):\n",
    "    for i in x:\n",
    "        if(int(i)%1==0):\n",
    "            print(i+i+i)\n",
    "        else:\n",
    "            print(i+#)\n",
    "method([‘41’,‘DROND’,‘GIRIRAJ’, ‘13’,‘ZARA’])\n",
    "      \n"
   ]
  },
  {
   "cell_type": "code",
   "execution_count": 4,
   "id": "2d337619",
   "metadata": {},
   "outputs": [
    {
     "ename": "TypeError",
     "evalue": "'float' object cannot be interpreted as an integer",
     "output_type": "error",
     "traceback": [
      "\u001b[1;31m---------------------------------------------------------------------------\u001b[0m",
      "\u001b[1;31mTypeError\u001b[0m                                 Traceback (most recent call last)",
      "\u001b[1;32m<ipython-input-4-7c8c0ac111c2>\u001b[0m in \u001b[0;36m<module>\u001b[1;34m\u001b[0m\n\u001b[0;32m      5\u001b[0m                \u001b[0mk\u001b[0m\u001b[1;33m=\u001b[0m\u001b[0mappend\u001b[0m\u001b[1;33m.\u001b[0m\u001b[0mc\u001b[0m\u001b[1;33m[\u001b[0m\u001b[0mi\u001b[0m\u001b[1;33m]\u001b[0m\u001b[1;33m\u001b[0m\u001b[1;33m\u001b[0m\u001b[0m\n\u001b[0;32m      6\u001b[0m                \u001b[0mprint\u001b[0m\u001b[1;33m(\u001b[0m\u001b[0mk\u001b[0m\u001b[1;33m)\u001b[0m\u001b[1;33m\u001b[0m\u001b[1;33m\u001b[0m\u001b[0m\n\u001b[1;32m----> 7\u001b[1;33m \u001b[0msort\u001b[0m\u001b[1;33m(\u001b[0m\u001b[1;33m[\u001b[0m\u001b[1;36m10\u001b[0m\u001b[1;33m,\u001b[0m\u001b[1;36m20\u001b[0m\u001b[1;33m,\u001b[0m\u001b[1;36m30\u001b[0m\u001b[1;33m,\u001b[0m\u001b[1;36m40\u001b[0m\u001b[1;33m,\u001b[0m\u001b[1;36m50\u001b[0m\u001b[1;33m,\u001b[0m\u001b[1;36m60\u001b[0m\u001b[1;33m]\u001b[0m\u001b[1;33m)\u001b[0m\u001b[1;33m\u001b[0m\u001b[1;33m\u001b[0m\u001b[0m\n\u001b[0m\u001b[0;32m      8\u001b[0m \u001b[1;33m\u001b[0m\u001b[0m\n\u001b[0;32m      9\u001b[0m \u001b[1;33m\u001b[0m\u001b[0m\n",
      "\u001b[1;32m<ipython-input-4-7c8c0ac111c2>\u001b[0m in \u001b[0;36msort\u001b[1;34m(lst)\u001b[0m\n\u001b[0;32m      2\u001b[0m        \u001b[0mc\u001b[0m\u001b[1;33m=\u001b[0m\u001b[1;33m[\u001b[0m\u001b[1;33m]\u001b[0m\u001b[1;33m\u001b[0m\u001b[1;33m\u001b[0m\u001b[0m\n\u001b[0;32m      3\u001b[0m        \u001b[1;32mif\u001b[0m \u001b[1;33m(\u001b[0m\u001b[0mlen\u001b[0m\u001b[1;33m(\u001b[0m\u001b[0mlst\u001b[0m\u001b[1;33m)\u001b[0m\u001b[1;33m%\u001b[0m\u001b[1;36m2\u001b[0m\u001b[1;33m==\u001b[0m\u001b[1;36m0\u001b[0m\u001b[1;33m)\u001b[0m\u001b[1;33m:\u001b[0m\u001b[1;33m\u001b[0m\u001b[1;33m\u001b[0m\u001b[0m\n\u001b[1;32m----> 4\u001b[1;33m            \u001b[1;32mfor\u001b[0m \u001b[0mi\u001b[0m \u001b[1;32min\u001b[0m \u001b[0mrange\u001b[0m\u001b[1;33m(\u001b[0m\u001b[1;33m(\u001b[0m\u001b[0mlen\u001b[0m\u001b[1;33m(\u001b[0m\u001b[0mlst\u001b[0m\u001b[1;33m)\u001b[0m\u001b[1;33m/\u001b[0m\u001b[1;36m2\u001b[0m\u001b[1;33m)\u001b[0m\u001b[1;33m,\u001b[0m\u001b[0mlen\u001b[0m\u001b[1;33m(\u001b[0m\u001b[0mlst\u001b[0m\u001b[1;33m)\u001b[0m\u001b[1;33m-\u001b[0m\u001b[1;36m1\u001b[0m\u001b[1;33m)\u001b[0m\u001b[1;33m:\u001b[0m\u001b[1;33m\u001b[0m\u001b[1;33m\u001b[0m\u001b[0m\n\u001b[0m\u001b[0;32m      5\u001b[0m                \u001b[0mk\u001b[0m\u001b[1;33m=\u001b[0m\u001b[0mappend\u001b[0m\u001b[1;33m.\u001b[0m\u001b[0mc\u001b[0m\u001b[1;33m[\u001b[0m\u001b[0mi\u001b[0m\u001b[1;33m]\u001b[0m\u001b[1;33m\u001b[0m\u001b[1;33m\u001b[0m\u001b[0m\n\u001b[0;32m      6\u001b[0m                \u001b[0mprint\u001b[0m\u001b[1;33m(\u001b[0m\u001b[0mk\u001b[0m\u001b[1;33m)\u001b[0m\u001b[1;33m\u001b[0m\u001b[1;33m\u001b[0m\u001b[0m\n",
      "\u001b[1;31mTypeError\u001b[0m: 'float' object cannot be interpreted as an integer"
     ]
    }
   ],
   "source": [
    "\n",
    " def sort(lst):\n",
    "        c=[]\n",
    "        if (len(lst)%2==0):\n",
    "            for i in range((len(lst)/2),len(lst)-1):\n",
    "                k=append.c[i]\n",
    "                print(k)\n",
    "sort([10,20,30,40,50,60])\n",
    "\n",
    "                \n",
    "    "
   ]
  },
  {
   "cell_type": "code",
   "execution_count": null,
   "id": "b0347c30",
   "metadata": {},
   "outputs": [],
   "source": []
  }
 ],
 "metadata": {
  "kernelspec": {
   "display_name": "Python 3",
   "language": "python",
   "name": "python3"
  },
  "language_info": {
   "codemirror_mode": {
    "name": "ipython",
    "version": 3
   },
   "file_extension": ".py",
   "mimetype": "text/x-python",
   "name": "python",
   "nbconvert_exporter": "python",
   "pygments_lexer": "ipython3",
   "version": "3.8.8"
  }
 },
 "nbformat": 4,
 "nbformat_minor": 5
}
