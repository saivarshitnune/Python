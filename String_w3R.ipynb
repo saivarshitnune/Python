{
 "cells": [
  {
   "cell_type": "code",
   "execution_count": 1,
   "id": "2a70bd2b",
   "metadata": {},
   "outputs": [
    {
     "data": {
      "text/plain": [
       "{'g': 2, 'o': 3, 'l': 1, 'e': 1, '.': 1, 'c': 1, 'm': 1}"
      ]
     },
     "execution_count": 1,
     "metadata": {},
     "output_type": "execute_result"
    }
   ],
   "source": [
    "#Write a Python program to count the number of characters (character frequency) in a string.\n",
    "def count_letter(X):\n",
    "    d=dict()\n",
    "    for i in X:\n",
    "        if i not in d:\n",
    "            d[i]=1\n",
    "        else:\n",
    "            d[i]+=1\n",
    "    return d\n",
    "count_letter('google.com')"
   ]
  },
  {
   "cell_type": "code",
   "execution_count": 2,
   "id": "d8c130a5",
   "metadata": {},
   "outputs": [
    {
     "name": "stdout",
     "output_type": "stream",
     "text": [
      "Empty String\n"
     ]
    }
   ],
   "source": [
    "#Write a Python program to get a string made of the first 2 and the last 2 chars from a given a string. If the string length is less than 2, return instead of the empty string.\n",
    "def Len_str(str1):\n",
    "    if len(str1)>2:\n",
    "        print(str1[0:2:1]+str1[(len(str1)-2):(len(str1)):1])\n",
    "    else:\n",
    "        print('Empty String')\n",
    "Len_str( 'w')"
   ]
  },
  {
   "cell_type": "code",
   "execution_count": 3,
   "id": "295d5b8c",
   "metadata": {},
   "outputs": [
    {
     "name": "stdout",
     "output_type": "stream",
     "text": [
      "$esta$t\n"
     ]
    }
   ],
   "source": [
    "#Write a Python program to get a string from a given string where all occurrences of its first char have been changed to '$', except the first char itself.\n",
    "def Occ_Str(str1):\n",
    "    for i in range(len(str1)):\n",
    "        if str1[i]=='r' and i>0:\n",
    "            str1 = str1.replace(str1[i], '$')\n",
    "    print(str1)\n",
    "Occ_Str('restart')"
   ]
  },
  {
   "cell_type": "code",
   "execution_count": 4,
   "id": "d034f9dc",
   "metadata": {},
   "outputs": [
    {
     "name": "stdout",
     "output_type": "stream",
     "text": [
      "xyc abz\n"
     ]
    }
   ],
   "source": [
    "str1= 'abc'\n",
    "str2='xyz'\n",
    "k=str1[0:2:1]+str2[2]\n",
    "l=str2[0:2:1]+str1[2]\n",
    "print(l+\" \"+k)"
   ]
  },
  {
   "cell_type": "code",
   "execution_count": 5,
   "id": "3e474749",
   "metadata": {},
   "outputs": [
    {
     "name": "stdout",
     "output_type": "stream",
     "text": [
      "stringly\n"
     ]
    }
   ],
   "source": [
    "#Write a Python program to add 'ing' at the end of a given string (length should be at least 3). If the given string already ends with 'ing' then add 'ly' instead. If the string length of the given string is less than 3, leave it unchanged.\n",
    "# Sample String : 'abc'\n",
    "# Expected Result : 'abcing'\n",
    "# Sample String : 'string'\n",
    "# Expected Result : 'stringly'\n",
    "def PRO1(str1):\n",
    "    if len(str1)>=3:\n",
    "        if str1[len(str1)-3:len(str1):1]!='ing':\n",
    "            print(str1+'ing')\n",
    "        else:\n",
    "            print(str1+'ly')\n",
    "\n",
    "PRO1('string')     "
   ]
  },
  {
   "cell_type": "code",
   "execution_count": 6,
   "id": "5472afdc",
   "metadata": {},
   "outputs": [
    {
     "name": "stdout",
     "output_type": "stream",
     "text": [
      "The lyrics is good!\n",
      "The lyrics is poor!\n"
     ]
    }
   ],
   "source": [
    "#Write a Python program to find the first appearance of the substring 'not' and 'poor' from a given string, if 'not' follows the 'poor', replace the whole 'not'...'poor' substring with 'good'. Return the resulting string.\n",
    "# Sample String : 'The lyrics is not that poor!'\n",
    "# 'The lyrics is poor!'\n",
    "# Expected Result : 'The lyrics is good!'\n",
    "# 'The lyrics is poor!'\n",
    "def not_poor(str1):\n",
    "    snot = str1.find('not')\n",
    "    spoor = str1.find('poor')\n",
    "    if spoor > snot and snot>0 and spoor>0:\n",
    "        str1 = str1.replace(str1[snot:(spoor+4)], 'good')\n",
    "        return str1\n",
    "    else:\n",
    "        return str1\n",
    "print(not_poor('The lyrics is not that poor!'))\n",
    "print(not_poor('The lyrics is poor!'))"
   ]
  },
  {
   "cell_type": "code",
   "execution_count": 7,
   "id": "31d74cb8",
   "metadata": {},
   "outputs": [
    {
     "name": "stdout",
     "output_type": "stream",
     "text": [
      "saivrshith\n"
     ]
    }
   ],
   "source": [
    "#Write a Python program to remove the nth index character from a nonempty string.\n",
    "def remove_char(X,n):\n",
    "    k= X[:n]\n",
    "    l=X[n+1:]\n",
    "    print(k+l)\n",
    "remove_char('saivarshith',4)"
   ]
  },
  {
   "cell_type": "code",
   "execution_count": 8,
   "id": "1effdf29",
   "metadata": {},
   "outputs": [
    {
     "data": {
      "text/plain": [
       "'nythop'"
      ]
     },
     "execution_count": 8,
     "metadata": {},
     "output_type": "execute_result"
    }
   ],
   "source": [
    "#Write a Python program to change a given string to a new string where the first and last chars have been exchanged.\n",
    "def Char_Exchange(str1):\n",
    "    k=str1[len(str1)-1]+str1[1:len(str1)-1:1]+str1[0]\n",
    "    return k\n",
    "Char_Exchange('python')"
   ]
  },
  {
   "cell_type": "code",
   "execution_count": 9,
   "id": "ad6d002d",
   "metadata": {},
   "outputs": [
    {
     "ename": "KeyboardInterrupt",
     "evalue": "Interrupted by user",
     "output_type": "error",
     "traceback": [
      "\u001b[1;31m---------------------------------------------------------------------------\u001b[0m",
      "\u001b[1;31mKeyboardInterrupt\u001b[0m                         Traceback (most recent call last)",
      "\u001b[1;32m<ipython-input-9-ba5fa5f878e5>\u001b[0m in \u001b[0;36m<module>\u001b[1;34m\u001b[0m\n\u001b[0;32m      1\u001b[0m \u001b[1;31m#Write a Python program that accepts a comma separated sequence of words as input and prints the unique words in sorted form (alphanumerically).\u001b[0m\u001b[1;33m\u001b[0m\u001b[1;33m\u001b[0m\u001b[1;33m\u001b[0m\u001b[0m\n\u001b[1;32m----> 2\u001b[1;33m \u001b[0mitems\u001b[0m \u001b[1;33m=\u001b[0m \u001b[0minput\u001b[0m\u001b[1;33m(\u001b[0m\u001b[1;34m\"Input comma separated sequence of words\"\u001b[0m\u001b[1;33m)\u001b[0m\u001b[1;33m\u001b[0m\u001b[1;33m\u001b[0m\u001b[0m\n\u001b[0m\u001b[0;32m      3\u001b[0m \u001b[0mwords\u001b[0m \u001b[1;33m=\u001b[0m \u001b[1;33m[\u001b[0m\u001b[0mword\u001b[0m \u001b[1;32mfor\u001b[0m \u001b[0mword\u001b[0m \u001b[1;32min\u001b[0m \u001b[0mitems\u001b[0m\u001b[1;33m.\u001b[0m\u001b[0msplit\u001b[0m\u001b[1;33m(\u001b[0m\u001b[1;34m\",\"\u001b[0m\u001b[1;33m)\u001b[0m\u001b[1;33m]\u001b[0m\u001b[1;33m\u001b[0m\u001b[1;33m\u001b[0m\u001b[0m\n\u001b[0;32m      4\u001b[0m \u001b[0mprint\u001b[0m\u001b[1;33m(\u001b[0m\u001b[1;34m\",\"\u001b[0m\u001b[1;33m.\u001b[0m\u001b[0mjoin\u001b[0m\u001b[1;33m(\u001b[0m\u001b[0msorted\u001b[0m\u001b[1;33m(\u001b[0m\u001b[0mlist\u001b[0m\u001b[1;33m(\u001b[0m\u001b[0mset\u001b[0m\u001b[1;33m(\u001b[0m\u001b[0mwords\u001b[0m\u001b[1;33m)\u001b[0m\u001b[1;33m)\u001b[0m\u001b[1;33m)\u001b[0m\u001b[1;33m)\u001b[0m\u001b[1;33m)\u001b[0m\u001b[1;33m\u001b[0m\u001b[1;33m\u001b[0m\u001b[0m\n",
      "\u001b[1;32mC:\\ProgramData\\Anaconda3\\lib\\site-packages\\ipykernel\\kernelbase.py\u001b[0m in \u001b[0;36mraw_input\u001b[1;34m(self, prompt)\u001b[0m\n\u001b[0;32m    858\u001b[0m                 \u001b[1;34m\"raw_input was called, but this frontend does not support input requests.\"\u001b[0m\u001b[1;33m\u001b[0m\u001b[1;33m\u001b[0m\u001b[0m\n\u001b[0;32m    859\u001b[0m             )\n\u001b[1;32m--> 860\u001b[1;33m         return self._input_request(str(prompt),\n\u001b[0m\u001b[0;32m    861\u001b[0m             \u001b[0mself\u001b[0m\u001b[1;33m.\u001b[0m\u001b[0m_parent_ident\u001b[0m\u001b[1;33m,\u001b[0m\u001b[1;33m\u001b[0m\u001b[1;33m\u001b[0m\u001b[0m\n\u001b[0;32m    862\u001b[0m             \u001b[0mself\u001b[0m\u001b[1;33m.\u001b[0m\u001b[0m_parent_header\u001b[0m\u001b[1;33m,\u001b[0m\u001b[1;33m\u001b[0m\u001b[1;33m\u001b[0m\u001b[0m\n",
      "\u001b[1;32mC:\\ProgramData\\Anaconda3\\lib\\site-packages\\ipykernel\\kernelbase.py\u001b[0m in \u001b[0;36m_input_request\u001b[1;34m(self, prompt, ident, parent, password)\u001b[0m\n\u001b[0;32m    902\u001b[0m             \u001b[1;32mexcept\u001b[0m \u001b[0mKeyboardInterrupt\u001b[0m\u001b[1;33m:\u001b[0m\u001b[1;33m\u001b[0m\u001b[1;33m\u001b[0m\u001b[0m\n\u001b[0;32m    903\u001b[0m                 \u001b[1;31m# re-raise KeyboardInterrupt, to truncate traceback\u001b[0m\u001b[1;33m\u001b[0m\u001b[1;33m\u001b[0m\u001b[1;33m\u001b[0m\u001b[0m\n\u001b[1;32m--> 904\u001b[1;33m                 \u001b[1;32mraise\u001b[0m \u001b[0mKeyboardInterrupt\u001b[0m\u001b[1;33m(\u001b[0m\u001b[1;34m\"Interrupted by user\"\u001b[0m\u001b[1;33m)\u001b[0m \u001b[1;32mfrom\u001b[0m \u001b[1;32mNone\u001b[0m\u001b[1;33m\u001b[0m\u001b[1;33m\u001b[0m\u001b[0m\n\u001b[0m\u001b[0;32m    905\u001b[0m             \u001b[1;32mexcept\u001b[0m \u001b[0mException\u001b[0m \u001b[1;32mas\u001b[0m \u001b[0me\u001b[0m\u001b[1;33m:\u001b[0m\u001b[1;33m\u001b[0m\u001b[1;33m\u001b[0m\u001b[0m\n\u001b[0;32m    906\u001b[0m                 \u001b[0mself\u001b[0m\u001b[1;33m.\u001b[0m\u001b[0mlog\u001b[0m\u001b[1;33m.\u001b[0m\u001b[0mwarning\u001b[0m\u001b[1;33m(\u001b[0m\u001b[1;34m\"Invalid Message:\"\u001b[0m\u001b[1;33m,\u001b[0m \u001b[0mexc_info\u001b[0m\u001b[1;33m=\u001b[0m\u001b[1;32mTrue\u001b[0m\u001b[1;33m)\u001b[0m\u001b[1;33m\u001b[0m\u001b[1;33m\u001b[0m\u001b[0m\n",
      "\u001b[1;31mKeyboardInterrupt\u001b[0m: Interrupted by user"
     ]
    }
   ],
   "source": [
    "#Write a Python program that accepts a comma separated sequence of words as input and prints the unique words in sorted form (alphanumerically).\n",
    "items = input(\"Input comma separated sequence of words\")\n",
    "words = [word for word in items.split(\",\")]\n",
    "print(\",\".join(sorted(list(set(words)))))"
   ]
  },
  {
   "cell_type": "code",
   "execution_count": null,
   "id": "f885f7cd",
   "metadata": {},
   "outputs": [],
   "source": [
    "#Write a Python function to get a string made of 4 copies of the last two characters of a specified string (length must be at least 2)\n",
    "def insert_end(X):\n",
    "    if len(X)>2:\n",
    "        k=4*X[len(X)-2:len(X):1]\n",
    "        return k\n",
    "insert_end('Exercises')"
   ]
  },
  {
   "cell_type": "code",
   "execution_count": null,
   "id": "d5b8b583",
   "metadata": {},
   "outputs": [],
   "source": [
    "#Write a Python function to get a string made of its first three characters of a specified string. If the length of the string is less than 3 then return the original string.\n",
    "def first_three(X):\n",
    "    k=0\n",
    "    for i in X:\n",
    "        k+=1\n",
    "    if k>=3:\n",
    "        print(X[0:3:1])\n",
    "    else:\n",
    "        print(X)\n",
    "first_three('saivarshith')"
   ]
  },
  {
   "cell_type": "code",
   "execution_count": null,
   "id": "edc0d752",
   "metadata": {},
   "outputs": [],
   "source": [
    "#Write a Python program to get the last part of a string before a specified character.\n",
    "str1='https://www.w3resource.com/python-exercises'\n",
    "for i in range(len(str1)):\n",
    "    if str1[i]=='-':\n",
    "        print(str1[:i])"
   ]
  },
  {
   "cell_type": "code",
   "execution_count": null,
   "id": "a6a29b69",
   "metadata": {},
   "outputs": [],
   "source": [
    "#Write a Python function to convert a given string to all uppercase if it contains at least 2 uppercase characters in the first 4 characters.\n",
    "def Upper_Case(X):\n",
    "    k=0\n",
    "    for i in X[:4]:\n",
    "        if i.upper() == i:\n",
    "            k+=1\n",
    "    if k>=2:\n",
    "        return X.upper()\n",
    "Upper_Case('SaIvarshith')"
   ]
  },
  {
   "cell_type": "code",
   "execution_count": null,
   "id": "9186574f",
   "metadata": {},
   "outputs": [],
   "source": [
    "# Write a Python program to remove a newline in Python.\n",
    "str1='Python Exercises\\n'\n",
    "print(str1.rstrip())\n",
    "\n"
   ]
  },
  {
   "cell_type": "code",
   "execution_count": null,
   "id": "5e06f6df",
   "metadata": {},
   "outputs": [],
   "source": [
    "#Write a Python program to print the following floating numbers upto 2 decimal places.\n",
    "#32 to 37 questions are related to formatting\n",
    "x = 3.1415926\n",
    "y = 12.9999\n",
    "print(\"\\nOriginal Number: \", x)\n",
    "print(\"Formatted Number: \"+\"{:.2f}\".format(x));\n",
    "print(\"Original Number: \", y)\n",
    "print(\"Formatted Number: \"+\"{:.2f}\".format(y));\n",
    "print() "
   ]
  },
  {
   "cell_type": "code",
   "execution_count": 31,
   "id": "00ed4bba",
   "metadata": {},
   "outputs": [
    {
     "name": "stdout",
     "output_type": "stream",
     "text": [
      "3\n"
     ]
    }
   ],
   "source": [
    "#Write a Python program to count occurrences of a substring in a string.\n",
    "str1=\"Welcome to w3resource.com\"\n",
    "t=0\n",
    "for i in range(len(str1)):\n",
    "    if(str1[i]=='w'):\n",
    "        k=str1[i:len(str1)-4:1]\n",
    "        if k in str1:\n",
    "            t+=1\n",
    "print(t)"
   ]
  },
  {
   "cell_type": "code",
   "execution_count": null,
   "id": "1534a5cf",
   "metadata": {},
   "outputs": [],
   "source": [
    "#Write a Python program to reverse words in a string.\n",
    "# str1=\"The quick brown fox\"\n",
    "# str1[len(str1)-3:len(str1):1]+str1[len(str1)-10:len(str1)-3:1]+str1[len(str1)-15:len(str1)-9:1]+str1[0:3:1]\n",
    "\n",
    "# def reverse_string_words(text):\n",
    "#     for line in text.split('\\n'):\n",
    "#         return(' '.join(line.split()[::-1]))\n",
    "# print(reverse_string_words(\"The quick brown fox jumps over the lazy dog.\"))\n"
   ]
  },
  {
   "cell_type": "code",
   "execution_count": null,
   "id": "6fe75a82",
   "metadata": {},
   "outputs": [],
   "source": [
    "#Write a Python program to strip a set of characters from a string.\n",
    "# def strip_chars(str, chars):\n",
    "#     return \"\".join(c for c in str if c not in chars)\n",
    "\n",
    "# print(\"\\nOriginal String: \")\n",
    "# print(\"The quick brown fox jumps over the lazy dog.\")\n",
    "# print(\"After stripping a,e,i,o,u\")      \n",
    "# print(strip_chars(\"The quick brown fox jumps over the lazy dog.\", \"aeiou\"))\n",
    "# print()\n"
   ]
  },
  {
   "cell_type": "code",
   "execution_count": null,
   "id": "885c30fe",
   "metadata": {},
   "outputs": [],
   "source": [
    "# Write a Python program to count repeated characters in a string.\n",
    "# str1='thequickbrownfoxjumpsoverthelazydog'\n",
    "# lst=[]\n",
    "# for i in str1:\n",
    "#     k=1\n",
    "#     lst.append(i)\n",
    "   \n",
    "      \n",
    "    \n",
    "    \n",
    "    "
   ]
  },
  {
   "cell_type": "code",
   "execution_count": null,
   "id": "4bb471fa",
   "metadata": {},
   "outputs": [],
   "source": [
    "#  Write a Python program to convert a given string into a list of words.\n",
    "# str1=\"This is a test string\"\n",
    "# lst=[]\n",
    "# d=''\n",
    "# for i in str1:\n",
    "#     if i!=' ':\n",
    "#         d+=i\n",
    "#         lst.append(i)\n",
    "#     else:\n",
    "#         d=''\n",
    "# print(lst)"
   ]
  },
  {
   "cell_type": "code",
   "execution_count": null,
   "id": "ad1f31ad",
   "metadata": {},
   "outputs": [],
   "source": [
    "str=\"32.054,23\"\n",
    "for i in str:\n",
    "    if i=='.':\n",
    "        replace.i(',')\n",
    "    elif i==',':\n",
    "        replace.i('.')\n",
    "    else:\n",
    "        print(None)\n",
    "print(str)"
   ]
  },
  {
   "cell_type": "code",
   "execution_count": null,
   "id": "92df83a6",
   "metadata": {},
   "outputs": [],
   "source": [
    "str=\"Welcome to w3resource.com\"\n",
    "lst=[]\n",
    "count=0\n",
    "for i in str:\n",
    "    if i=='e' or i=='o' or i=='u':\n",
    "        count+=1\n",
    "        lst.append(i)\n",
    "print(count)\n",
    "print(lst)\n",
    "        "
   ]
  },
  {
   "cell_type": "code",
   "execution_count": null,
   "id": "45471b5e",
   "metadata": {},
   "outputs": [],
   "source": [
    "#Write a Python program to split a string on the last occurrence of the delimiter.\n",
    "str1 = \"w,3,r,e,s,o,u,r,c,e\"\n",
    "#str1[0:len(str1)-2:1]+str1[len(str1)-2]+str1[-1]\n",
    "print(str1.rsplit(',', 1))\n",
    "print(str1.rsplit(',', 2))\n",
    "print(str1.rsplit(',', 5))"
   ]
  },
  {
   "cell_type": "code",
   "execution_count": null,
   "id": "24e8e513",
   "metadata": {},
   "outputs": [],
   "source": [
    "def first_non_repeating_character(str1):\n",
    "    lst= []\n",
    "    d = {}\n",
    "    for i in str1:\n",
    "        if i in lst:\n",
    "            d[i] += 1\n",
    "        else:\n",
    "            d[i] = 1 \n",
    "        lst.append(i)\n",
    "    for i in lst:\n",
    "        if d[i] == 1:\n",
    "            return i\n",
    "    return None\n",
    "print(first_non_repeating_character('abcdef'))\n",
    "\n",
    "        "
   ]
  },
  {
   "cell_type": "code",
   "execution_count": 11,
   "id": "5a2651f9",
   "metadata": {},
   "outputs": [],
   "source": [
    "#Write a Python program to find the first repeated character of a given string where the index of first occurrence is smallest.\n",
    "def first_repeated_char_smallest_distance(str1):\n",
    "  temp = {}\n",
    "  for ch in str1:\n",
    "    if ch in temp:\n",
    "      return ch, str1.index(ch);\n",
    "    else:\n",
    "      temp[ch] = 0\n",
    "  return 'None'\n",
    "print(first_repeated_char_smallest_distance(\"abcabc\"))\n",
    "        "
   ]
  },
  {
   "cell_type": "code",
   "execution_count": 12,
   "id": "3dac5cbf",
   "metadata": {},
   "outputs": [
    {
     "name": "stdout",
     "output_type": "stream",
     "text": [
      "('ab', 2)\n"
     ]
    }
   ],
   "source": [
    "#Need to analyse\n",
    "#Write a Python program to find the first repeated word in a given string.\n",
    "def word_count(str):\n",
    "    counts = dict()\n",
    "    words = str.split()\n",
    "\n",
    "    for word in words:\n",
    "        if word in counts:\n",
    "            counts[word] += 1\n",
    "        else:\n",
    "            counts[word] = 1\n",
    "\n",
    "    counts_x = sorted(counts.items(), key=lambda kv: kv[1])\n",
    "    #print(counts_x)\n",
    "    return counts_x[-1]\n",
    " \n",
    "print(word_count(\"ab ca bc ab\"))"
   ]
  },
  {
   "cell_type": "code",
   "execution_count": 10,
   "id": "2c7c5273",
   "metadata": {},
   "outputs": [],
   "source": [
    "# Write a Python program to find the second most repeated word in a given string.\n",
    "def word_count(str):\n",
    "    counts = dict()\n",
    "    words = str.split()\n",
    "\n",
    "    for word in words:\n",
    "        if word in counts:\n",
    "            counts[word] += 1\n",
    "        else:\n",
    "            counts[word] = 1\n",
    "\n",
    "    counts_x = sorted(counts.items(), key=lambda kv: kv[1])\n",
    "    #print(counts_x)\n",
    "    return counts_x[-2]\n",
    " \n",
    "print(word_count(\"Both of these issues are fixed by postponing the evaluation of annotations. Instead of compiling code which executes expressions in annotations at their definition time, the compiler stores the annotation in a string form equivalent to the AST of the expression in question. If needed, annotations can be resolved at runtime using typing.get_type_hints(). In the common case where this is not required, the annotations are cheaper to store (since short strings are interned by the interpreter) and make startup time faster.\"))\n"
   ]
  },
  {
   "cell_type": "code",
   "execution_count": 36,
   "id": "846bf3ce",
   "metadata": {},
   "outputs": [],
   "source": [
    "def mcu(X):\n",
    "    d={}\n",
    "    lst=[]\n",
    "    for i in X:\n",
    "        if i not in d:\n",
    "            d[i]=1\n",
    "        else:\n",
    "            d[i]+=1\n",
    "    for j in d:\n",
    "        lst.append(d[j])\n",
    "    if(d[j]==max(lst)):\n",
    "        print(j,d[j])\n",
    "mcu(\"Both of these issues are fixed by postponing the evaluation of annotations. Instead of compiling code which executes expressions in annotations at their definition time, the compiler stores the annotation in a string form equivalent to the AST of the expression in question. If needed, annotations can be resolved at runtime using typing.get_type_hints(). In the common case where this is not required, the annotations are cheaper to store (since short strings are interned by the interpreter) and make startup time faster.\")"
   ]
  },
  {
   "cell_type": "code",
   "execution_count": 24,
   "id": "3ee9b229",
   "metadata": {},
   "outputs": [
    {
     "name": "stdout",
     "output_type": "stream",
     "text": [
      " SaI\n",
      "  varshitH\n",
      "  nunE\n"
     ]
    }
   ],
   "source": [
    "#Write a Python program to capitalize first and last letters of each word of a given string.\n",
    "str1=\"sai varshith nune\"\n",
    "d=''\n",
    "lst=[]\n",
    "for i in str1:\n",
    "    if i!=\" \":\n",
    "        d+=i\n",
    "    else:\n",
    "        lst.append(d)\n",
    "        d=\" \"\n",
    "for i in lst:\n",
    "    k=\" \"\n",
    "    k+=i[0].upper()+i[1:len(i)-1:1]+i[-1].upper()\n",
    "    print(k)\n",
    "    "
   ]
  },
  {
   "cell_type": "code",
   "execution_count": 37,
   "id": "9dc5abba",
   "metadata": {},
   "outputs": [
    {
     "name": "stdout",
     "output_type": "stream",
     "text": [
      "15\n"
     ]
    }
   ],
   "source": [
    "#Write a Python program to compute sum of digits of a given string.\n",
    "str1=\"123abcd45\"\n",
    "k=0\n",
    "for i in str1:\n",
    "    if i.isalpha()!=True:\n",
    "        k+= int(i)\n",
    "print(k)\n",
    "        "
   ]
  },
  {
   "cell_type": "code",
   "execution_count": null,
   "id": "9bac2888",
   "metadata": {},
   "outputs": [],
   "source": [
    "#Write a Python program to calculate the sum of two numbers given as strings. Return the result in the same string representation.\n",
    "# ( \"234242342341\", \"2432342342\") -> \"236674684683\"\n",
    "# ( \"\", \"2432342342\") -> False ( \"1000\", \"0\") -> \"1000\"\n",
    "# ( \"1000\", \"10\") -> \"1010\"\n",
    "def test(x, y):\n",
    "    if (x==\"\" or y==\"\"):\n",
    "        return False\n",
    "    m = max(len(x), len(y))\n",
    "    c = 0\n",
    "    result = ''\n",
    "    for x, y in zip(x.rjust(m, '0')[::-1], y.rjust(m, '0')[::-1]):\n",
    "        s = int(x) + int(y) + c\n",
    "        c = 1 if s > 9 else 0\n",
    "        result += str(s)[-1]  \n",
    "        \n",
    "    result = result + str(c) if c == 1 else result\n",
    "    return result[::-1]\n",
    "\n",
    "n1 =\"234242342341\"\n",
    "n2 =\"2432342342\"\n",
    "print(\"Original string numbers:\", n1,n2)\n",
    "print(\"Check said two strings contain three letters at the same index:\")\n",
    "print(test(n1, n2))"
   ]
  },
  {
   "cell_type": "code",
   "execution_count": 1,
   "id": "63656f7a",
   "metadata": {},
   "outputs": [
    {
     "data": {
      "text/plain": [
       "'Python Exercises'"
      ]
     },
     "execution_count": 1,
     "metadata": {},
     "output_type": "execute_result"
    }
   ],
   "source": [
    "# Write a Python program to insert space before every capital letter appears in a given word. Go to the editor\n",
    "# Sample Data:\n",
    "# (\"PythonExercises\") -> \"Python Exercises\"\n",
    "# (\"Python\") -> \"Python\"\n",
    "# (\"PythonExercisesPracticeSolution\") -> \"Python Exercises Practice Solution\"\n",
    "def test(word):\n",
    "    result = \"\"\n",
    "    for i in word:\n",
    "        if i.isupper():\n",
    "            result=result+\" \"+i.upper()\n",
    "        else:\n",
    "            result=result+i\n",
    "    return result[1:]\n",
    "test(\"PythonExercises\")\n",
    "\n",
    "        "
   ]
  },
  {
   "cell_type": "code",
   "execution_count": 5,
   "id": "d4cf1b48",
   "metadata": {},
   "outputs": [
    {
     "name": "stdout",
     "output_type": "stream",
     "text": [
      "-G--r-ee-n-\n"
     ]
    }
   ],
   "source": [
    "# Write a Python program to that takes a string and returns # on both sides each element, which are not vowels. Go to the editor\n",
    "# Sample Data:\n",
    "# (\"Green\" -> \"-G--r-ee-n-\"\n",
    "# (\"White\") -> \"-W--h-i-t-e\"\n",
    "# (\"aeiou\") -> \"aeiou\"\n",
    "str1=\"Green\"\n",
    "d=\" \"\n",
    "for i in str1:\n",
    "    if i not in (\"aeiou\"): #(\"a\"or\"e\"or\"i\"or\"o\"or\"u\")\n",
    "        d+=\"-\"+i+\"-\"\n",
    "    else:\n",
    "        d+=i\n",
    "print(d[1:])\n"
   ]
  },
  {
   "cell_type": "code",
   "execution_count": null,
   "id": "9c90e0b4",
   "metadata": {},
   "outputs": [],
   "source": [
    "#Write a Python program to that takes two strings. Count the number of times each string contains the same three letters at the same index"
   ]
  },
  {
   "cell_type": "code",
   "execution_count": 19,
   "id": "96ba5736",
   "metadata": {},
   "outputs": [
    {
     "name": "stdout",
     "output_type": "stream",
     "text": [
      " Yelowodor\n"
     ]
    }
   ],
   "source": [
    "#Write a Python program to remove repeated consecutive characters and replace with the single letters and print new updated string.\n",
    "# (\"Red Green White\") -> \"Red Gren White\"\n",
    "# (\"aabbbcdeffff\") -> \"abcdef\"\n",
    "# (\"Yellowwooddoor\") -> \"Yelowodor\"\n",
    "str1=\"Yellowwooddoor\"\n",
    "d=\" \"\n",
    "lst=[]\n",
    "for i in range(len(str1)-1):\n",
    "    if (str1[i]==str1[i+1]):\n",
    "        continue\n",
    "    else:\n",
    "        d+=str1[i]\n",
    "d+=str1[len(str1)-1]\n",
    "print(d)\n",
    "\n",
    "        \n",
    "        "
   ]
  },
  {
   "cell_type": "code",
   "execution_count": 30,
   "id": "5f4144d5",
   "metadata": {},
   "outputs": [
    {
     "name": "stdout",
     "output_type": "stream",
     "text": [
      " johnsmith\n"
     ]
    }
   ],
   "source": [
    "# 105. Write a Python program to extract and display the name from a given email address. Go to the editor\n",
    "# Sample Data:\n",
    "# (\"john@example.com\") -> (\"john\")\n",
    "# (\"john.smith@example.com\") -> (\"johnsmith\")\n",
    "# (\"fully-qualified-domain@example.com\") -> (\"fullyqualifieddomain\")\n",
    "str1=\"john.smith@example.com\"\n",
    "d=\" \"\n",
    "for i in str1:\n",
    "    if(i=='@'):\n",
    "        break\n",
    "    elif i in \".-\":\n",
    "        continue\n",
    "    else:\n",
    "        d+=i\n",
    "print(d)"
   ]
  },
  {
   "cell_type": "code",
   "execution_count": 2,
   "id": "ac6af452",
   "metadata": {},
   "outputs": [
    {
     "name": "stdout",
     "output_type": "stream",
     "text": [
      " \n",
      "R\n",
      "e\n",
      "d\n",
      " \n",
      "G\n",
      "r\n",
      "e\n",
      "e\n",
      "n\n",
      " \n",
      "W\n",
      "H\n",
      "I\n",
      "T\n",
      "E\n"
     ]
    }
   ],
   "source": [
    "# Write a Python program that capitalizes the first letter and lowercases the remaining letters of a given string. Go to the editor\n",
    "# Sample Data:\n",
    "# (\"Red Green WHITE\") -> \"Red Green White\"\n",
    "# (\"w3resource\") -> \"W3resource\"\n",
    "# (\"dow jones industrial average\") -> \"Dow Jones Industrial Average\"\n",
    "# Click me to see the sample solution\n",
    "str1=\"Red Green WHITE\"\n",
    "d=\" \"\n",
    "lst=[]\n",
    "for i in str1:\n",
    "    if (i!=''):\n",
    "        d+=i\n",
    "    else:\n",
    "        lst.append(d)\n",
    "        d=\" \"\n",
    "\n"
   ]
  },
  {
   "cell_type": "code",
   "execution_count": 32,
   "id": "f32060cd",
   "metadata": {},
   "outputs": [
    {
     "name": "stdout",
     "output_type": "stream",
     "text": [
      "[' a\\nmultiline\\nstring.\\nThis', ' is a', ' multiline', ' string.', ' ']\n"
     ]
    }
   ],
   "source": [
    "# str1=\"Python - Remove punctuations from a string:\"\n",
    "# str1='This\\nis a\\nmultiline\\nstring.\\n'\n",
    "lst=[]\n",
    "for i in str1:\n",
    "    if (i!=\"\\n\"):\n",
    "        d+=i\n",
    "    else:\n",
    "        lst.append(d)\n",
    "        d=\" \"\n",
    "if d:\n",
    "    lst.append(d)\n",
    "print(lst)"
   ]
  },
  {
   "cell_type": "code",
   "execution_count": 18,
   "id": "9ad54e48",
   "metadata": {},
   "outputs": [
    {
     "data": {
      "text/plain": [
       "'###### - ###### ############ from a #######'"
      ]
     },
     "execution_count": 18,
     "metadata": {},
     "output_type": "execute_result"
    }
   ],
   "source": [
    "def test(text):\n",
    "    for i in text.split():\n",
    "        if len(i) >= 5:\n",
    "            text = text.replace(i, \"#\" * len(i))\n",
    "    return text\n",
    "\n",
    "test(\"Python - Remove punctuations from a string:\")"
   ]
  },
  {
   "cell_type": "code",
   "execution_count": 23,
   "id": "975b7686",
   "metadata": {},
   "outputs": [
    {
     "name": "stdout",
     "output_type": "stream",
     "text": [
      " String With Punctuation\n"
     ]
    }
   ],
   "source": [
    "str1=\"String! With. Punctuation?\"\n",
    "d=\" \"\n",
    "for i in str1:\n",
    "    if i in \"!.?\":\n",
    "        continue\n",
    "    else:\n",
    "        d+=i\n",
    "print(d)"
   ]
  },
  {
   "cell_type": "code",
   "execution_count": 31,
   "id": "c7f029a8",
   "metadata": {},
   "outputs": [
    {
     "name": "stdout",
     "output_type": "stream",
     "text": [
      "['This', 'is a', 'multiline', 'string.', '']\n"
     ]
    }
   ],
   "source": [
    "str1='This\\nis a\\nmultiline\\nstring.\\n'\n",
    "print(str1.split('\\n'))"
   ]
  },
  {
   "cell_type": "code",
   "execution_count": 34,
   "id": "eb08ef32",
   "metadata": {},
   "outputs": [
    {
     "name": "stdout",
     "output_type": "stream",
     "text": [
      "[12, 45]\n"
     ]
    }
   ],
   "source": [
    "str2=\"red 12 black 45 green\"\n",
    "lst=[]\n",
    "for i in str2.split():\n",
    "    if i.isdigit()==True:\n",
    "        lst.append(int(i))\n",
    "print(lst)\n",
    "        "
   ]
  },
  {
   "cell_type": "code",
   "execution_count": null,
   "id": "cd055027",
   "metadata": {},
   "outputs": [],
   "source": []
  }
 ],
 "metadata": {
  "kernelspec": {
   "display_name": "Python 3",
   "language": "python",
   "name": "python3"
  },
  "language_info": {
   "codemirror_mode": {
    "name": "ipython",
    "version": 3
   },
   "file_extension": ".py",
   "mimetype": "text/x-python",
   "name": "python",
   "nbconvert_exporter": "python",
   "pygments_lexer": "ipython3",
   "version": "3.8.8"
  }
 },
 "nbformat": 4,
 "nbformat_minor": 5
}
