{
  "nbformat": 4,
  "nbformat_minor": 0,
  "metadata": {
    "colab": {
      "provenance": [],
      "authorship_tag": "ABX9TyOtAMkTqnfz+BwBVPIntnTg",
      "include_colab_link": true
    },
    "kernelspec": {
      "name": "python3",
      "display_name": "Python 3"
    },
    "language_info": {
      "name": "python"
    }
  },
  "cells": [
    {
      "cell_type": "markdown",
      "metadata": {
        "id": "view-in-github",
        "colab_type": "text"
      },
      "source": [
        "<a href=\"https://colab.research.google.com/github/saivarshitnune/Python/blob/main/Arrays_DSA.ipynb\" target=\"_parent\"><img src=\"https://colab.research.google.com/assets/colab-badge.svg\" alt=\"Open In Colab\"/></a>"
      ]
    },
    {
      "cell_type": "markdown",
      "source": [
        "**1. Largest element in an array**"
      ],
      "metadata": {
        "id": "r-JkKUrwsXoZ"
      }
    },
    {
      "cell_type": "code",
      "execution_count": null,
      "metadata": {
        "id": "ZV5NDoXIsO07"
      },
      "outputs": [],
      "source": [
        "#solution approach - Brute force - Sorting -> value stored in last index\n",
        "#TC-O(nlogn)\n",
        "#SC-O(1)\n",
        "arr = [3,2,1,5,2]\n"
      ]
    },
    {
      "cell_type": "code",
      "source": [
        "#Optimal approach - Here we are using only one loop\n",
        "# So TC-O(N)\n",
        "#SC-O(1)\n",
        "arr = [3,2,1,5,2]\n",
        "largest = arr[0]\n",
        "for i in range(len(arr)):\n",
        "  if arr[i]>largest:\n",
        "    largest=arr[i]\n",
        "print(largest)"
      ],
      "metadata": {
        "colab": {
          "base_uri": "https://localhost:8080/"
        },
        "id": "3BtOR_dbt8a4",
        "outputId": "c0f59ef3-26e5-4699-bd5d-19baa8417a94"
      },
      "execution_count": null,
      "outputs": [
        {
          "output_type": "stream",
          "name": "stdout",
          "text": [
            "5\n"
          ]
        }
      ]
    },
    {
      "cell_type": "markdown",
      "source": [
        "**2.Second largest element in an array**"
      ],
      "metadata": {
        "id": "8PlSSYBLwgOD"
      }
    },
    {
      "cell_type": "code",
      "source": [
        "#Brute force approach - Sort the array and traverse backward from n-2 index to 0\n",
        "#TC-O(nlogn+n)\n",
        "#SC-O(1)\n",
        "arr = [3,2,1,5,2]"
      ],
      "metadata": {
        "id": "KD5xG7O6t_kF"
      },
      "execution_count": null,
      "outputs": []
    },
    {
      "cell_type": "code",
      "source": [
        "# Better approach - We need to initialize the two variables as largest and slargest with arr[0],-1 respectively. Then based on largest value find the smallest value\n",
        "#TC-O(2N)\n",
        "#SC-O(1)\n",
        "arr=[3,2,1,5,2]\n",
        "largest = arr[0]\n",
        "slargest = -1\n",
        "for i in range(len(arr)):\n",
        "  if arr[i]>largest:\n",
        "    largest = arr[i]\n",
        "for i in range(len(arr)):\n",
        "  if (arr[i]!=largest and arr[i]>slargest):\n",
        "    slargest = arr[i]\n",
        "print([largest,slargest])"
      ],
      "metadata": {
        "colab": {
          "base_uri": "https://localhost:8080/"
        },
        "id": "Q829DRZu0TeI",
        "outputId": "7536cd95-016f-47e5-fe33-a50976888f23"
      },
      "execution_count": null,
      "outputs": [
        {
          "output_type": "stream",
          "name": "stdout",
          "text": [
            "[5, 3]\n"
          ]
        }
      ]
    },
    {
      "cell_type": "code",
      "source": [
        "#Optimal approach - Suppose if the nth element is the largest then second largest will be the n-1th element\n",
        "#TC=O(N)\n",
        "#SC=O(1)\n",
        "arr=[3,2,1,5,2]\n",
        "largest = arr[0]\n",
        "slargest = -1\n",
        "for i in range(len(arr)):\n",
        "  if arr[i]>largest:\n",
        "    slargest = largest\n",
        "    largest = arr[i]\n",
        "  elif (arr[i]<largest and arr[i]>slargest):\n",
        "    slargest = arr[i]\n",
        "print([largest,slargest])"
      ],
      "metadata": {
        "colab": {
          "base_uri": "https://localhost:8080/"
        },
        "id": "MBG30Xef5Zq0",
        "outputId": "0e5a9cc8-6943-4dda-f363-945b2285c496"
      },
      "execution_count": null,
      "outputs": [
        {
          "output_type": "stream",
          "name": "stdout",
          "text": [
            "[5, 3]\n"
          ]
        }
      ]
    },
    {
      "cell_type": "markdown",
      "source": [
        "**1. Smallest element in an array**"
      ],
      "metadata": {
        "id": "mTYZejo6A4-y"
      }
    },
    {
      "cell_type": "code",
      "source": [
        "arr = [1,2,3,6,5]\n",
        "smallest = arr[0]\n",
        "for i in range(len(arr)):\n",
        "  if arr[i]<smallest:\n",
        "    smallest = arr[i]\n",
        "print(smallest)"
      ],
      "metadata": {
        "colab": {
          "base_uri": "https://localhost:8080/"
        },
        "id": "hMRcqmEC9DXc",
        "outputId": "99374dfa-a715-4cc0-c63c-65bc5b65402d"
      },
      "execution_count": null,
      "outputs": [
        {
          "output_type": "stream",
          "name": "stdout",
          "text": [
            "1\n"
          ]
        }
      ]
    },
    {
      "cell_type": "markdown",
      "source": [
        "**2.Second Smallest element in an array**"
      ],
      "metadata": {
        "id": "kP-2pYvxBlz6"
      }
    },
    {
      "cell_type": "code",
      "source": [
        "arr=[1,2,3,6,5]\n",
        "for i in range(len(arr)-1):\n",
        "  if arr[i] > arr[i+1]:\n",
        "    arr[i],arr[i+1] = arr[i+1],arr[i]\n",
        "print(arr[1])"
      ],
      "metadata": {
        "colab": {
          "base_uri": "https://localhost:8080/"
        },
        "id": "ASgknocdBVXf",
        "outputId": "312cbc2a-b402-49e6-bf62-68cd9025c0e6"
      },
      "execution_count": null,
      "outputs": [
        {
          "output_type": "stream",
          "name": "stdout",
          "text": [
            "2\n"
          ]
        }
      ]
    },
    {
      "cell_type": "markdown",
      "source": [
        "**Sorting of an array**\n",
        "\n",
        "## **Check if the array is sorted**"
      ],
      "metadata": {
        "id": "ljc3-gKQDq03"
      }
    },
    {
      "cell_type": "code",
      "source": [
        "arr=[1,2,3,6,5]\n",
        "def issorted(arr):\n",
        "  for i in range(len(arr)-1):\n",
        "    if arr[i] > arr[i+1]:\n",
        "      return 0\n",
        "  return 1"
      ],
      "metadata": {
        "id": "R1XuFUd5CkLR"
      },
      "execution_count": null,
      "outputs": []
    },
    {
      "cell_type": "code",
      "source": [
        "issorted(arr)"
      ],
      "metadata": {
        "colab": {
          "base_uri": "https://localhost:8080/"
        },
        "id": "srM-9RlOFZlF",
        "outputId": "db08d2de-af85-4be0-dc12-9c08173aa7c9"
      },
      "execution_count": null,
      "outputs": [
        {
          "output_type": "execute_result",
          "data": {
            "text/plain": [
              "0"
            ]
          },
          "metadata": {},
          "execution_count": 19
        }
      ]
    },
    {
      "cell_type": "markdown",
      "source": [
        "**Remove duplicates in an soted array**"
      ],
      "metadata": {
        "id": "lL7qLnawJtGI"
      }
    },
    {
      "cell_type": "code",
      "source": [
        "#Brute force approach\n",
        "#TC-O(nlogn+n)\n",
        "#SC-O(n)\n",
        "a = [1,1,2,2,3,3]\n",
        "s = []\n",
        "for i in range(len(a)):\n",
        "  if a[i] not in s:\n",
        "    s.append(a[i])\n",
        "print(s)"
      ],
      "metadata": {
        "colab": {
          "base_uri": "https://localhost:8080/"
        },
        "id": "FgbvCg73I7a4",
        "outputId": "9484c2be-ffb0-4642-b9d3-4a9126b69493"
      },
      "execution_count": null,
      "outputs": [
        {
          "output_type": "stream",
          "name": "stdout",
          "text": [
            "[1, 2, 3]\n"
          ]
        }
      ]
    },
    {
      "cell_type": "code",
      "source": [
        "#Optimal approach\n",
        "#Two pointer approach\n",
        "a = [1,1,1,2,2,3,3]\n",
        "i = 0\n",
        "for j in range(1,len(a)):\n",
        "  if a[j]!=a[i]:\n",
        "    a[i+1] = a[j]\n",
        "    i+=1\n",
        "print(i+1)\n"
      ],
      "metadata": {
        "colab": {
          "base_uri": "https://localhost:8080/"
        },
        "id": "sk_CgZ5ILvJI",
        "outputId": "82442471-8bc4-4af1-f7f8-1d2f49e8813e"
      },
      "execution_count": null,
      "outputs": [
        {
          "output_type": "stream",
          "name": "stdout",
          "text": [
            "3\n"
          ]
        }
      ]
    },
    {
      "cell_type": "markdown",
      "source": [
        "**Left rotate an array by one place**"
      ],
      "metadata": {
        "id": "EQ7OmOYJqIYF"
      }
    },
    {
      "cell_type": "code",
      "source": [
        "#TC-O(n)\n",
        "#SC-O(1)\n",
        "a = [1,2,3,4,5]\n",
        "temp = a[0]\n",
        "for i in range(1,len(a)):\n",
        "  a[i-1] = a[i]\n",
        "a[len(a)-1]=temp\n",
        "print(a)"
      ],
      "metadata": {
        "colab": {
          "base_uri": "https://localhost:8080/"
        },
        "id": "DxyZLCfiqN6F",
        "outputId": "dab59e6c-1a35-47fd-d6a3-7c6cfe2ea66e"
      },
      "execution_count": null,
      "outputs": [
        {
          "output_type": "stream",
          "name": "stdout",
          "text": [
            "[2, 3, 4, 5, 1]\n"
          ]
        }
      ]
    },
    {
      "cell_type": "markdown",
      "source": [
        "** Left Rotate an array by d places**\n",
        "\n",
        "if d>len(array)\n",
        "\n",
        "perform d=d%n"
      ],
      "metadata": {
        "id": "kBs4jnuAwIwo"
      }
    },
    {
      "cell_type": "markdown",
      "source": [
        "Time Complexity\n",
        "List comprehension: O(k)\n",
        "\n",
        "First loop (shifting elements): O(n-k)\n",
        "\n",
        "Second loop (replacing last k elements): O(k)\n",
        "\n",
        "Thus, the overall time complexity is:\n",
        "𝑂\n",
        "(\n",
        "𝑘\n",
        ")\n",
        "+\n",
        "𝑂\n",
        "(\n",
        "𝑛\n",
        "−\n",
        "𝑘\n",
        ")\n",
        "+\n",
        "𝑂\n",
        "(\n",
        "𝑘\n",
        ")\n",
        "=\n",
        "𝑂\n",
        "(\n",
        "𝑛\n",
        ")\n",
        "O(k)+O(n−k)+O(k)=O(n)\n",
        "\n",
        "Space Complexity\n",
        "Space for the temp array: O(k)\n",
        "Thus, the overall space complexity is:\n",
        "𝑂\n",
        "(\n",
        "𝑘\n",
        ")\n",
        "O(k)\n",
        "\n",
        "Conclusion:\n",
        "\n",
        "Time Complexity: O(n)\n",
        "\n",
        "Space Complexity: O(k)"
      ],
      "metadata": {
        "id": "wHZ3irL22Ttt"
      }
    },
    {
      "cell_type": "code",
      "source": [
        "#Brute force approach\n",
        "a = [1,2,3,4,5]\n",
        "n = len(a)\n",
        "def isrotate(k):\n",
        "  temp = [a[i] for i in range(k)]\n",
        "  for j in range(k,len(a)):\n",
        "    a[j-k] = a[j]\n",
        "  for i in range(n-k,n):\n",
        "    a[i]=temp[i-(n-k)]\n",
        "  return a\n"
      ],
      "metadata": {
        "id": "ZXHgOOtJrrlu"
      },
      "execution_count": null,
      "outputs": []
    },
    {
      "cell_type": "code",
      "source": [
        "#optimal approach - Reversing 1st three elements , next n-3 elements, next reversing total array\n",
        "#TC - 0(2N)\n",
        "#SC- 0(1)\n",
        "d=3\n",
        "a = [1,2,3,4,5]\n",
        "n = len(a)\n",
        "def rev(start,end):\n",
        "  while(start<=end):\n",
        "    temp = a[start]\n",
        "    a[start] = a[end]\n",
        "    a[end] = temp\n",
        "    start+=1\n",
        "    end-=1\n",
        "rev(0,d-1)\n",
        "rev(d,n-1)\n",
        "rev(0,n-1)\n",
        "print(a)\n",
        "\n",
        "\n"
      ],
      "metadata": {
        "colab": {
          "base_uri": "https://localhost:8080/"
        },
        "id": "S32RJFnP8AZ_",
        "outputId": "8a04614c-3fcb-40d9-f390-5c9b03188ec7"
      },
      "execution_count": null,
      "outputs": [
        {
          "output_type": "stream",
          "name": "stdout",
          "text": [
            "[4, 5, 1, 2, 3]\n"
          ]
        }
      ]
    },
    {
      "cell_type": "markdown",
      "source": [
        "**Right rotate an array by d places**\n",
        "\n",
        "\n",
        "[1,2,3,4,5,6]\n",
        "\n",
        "\n",
        "[5,6,1,2,3,4]"
      ],
      "metadata": {
        "id": "bhTcuVRPHQ8M"
      }
    },
    {
      "cell_type": "code",
      "source": [
        "d=2\n",
        "a = [1,2,3,4,5,6]\n",
        "n = len(a)\n",
        "def rev(start,end):\n",
        "  while(start<=end):\n",
        "     temp = a[start]\n",
        "     a[start] = a[end]\n",
        "     a[end] = temp\n",
        "     start+=1\n",
        "     end-=1\n",
        "rev(0,n-d-1)\n",
        "rev(n-d,n-d+1)\n",
        "rev(0,n-1)\n",
        "print(a)"
      ],
      "metadata": {
        "colab": {
          "base_uri": "https://localhost:8080/"
        },
        "id": "V2U4cYqrAW6p",
        "outputId": "f849d651-7932-4878-ccd6-b61c238e783a"
      },
      "execution_count": null,
      "outputs": [
        {
          "output_type": "stream",
          "name": "stdout",
          "text": [
            "[5, 6, 1, 2, 3, 4]\n"
          ]
        }
      ]
    },
    {
      "cell_type": "markdown",
      "source": [
        "**Move all zeros to the end of array**"
      ],
      "metadata": {
        "id": "lWNlJjmlSqFK"
      }
    },
    {
      "cell_type": "code",
      "source": [
        "#Brute force approach\n",
        "#TC-O(2N) - O(N)+O(d)+O(N-d)\n",
        "#SC-0(N)\n",
        "a=[1,0,2,3,2,0,0,4,5,1]\n",
        "l = []\n",
        "for i in range(len(a)):\n",
        "  if a[i]!=0:\n",
        "    l.append(a[i])\n",
        "for j in range(len(l)):\n",
        "  a[j]=l[j]\n",
        "for k in range(len(l),len(a)):\n",
        "  a[k]=0\n",
        "print(a)"
      ],
      "metadata": {
        "id": "Znx50zBqIpKQ",
        "colab": {
          "base_uri": "https://localhost:8080/"
        },
        "outputId": "6c5a05a9-af5a-442a-8b9b-090352d02a92"
      },
      "execution_count": null,
      "outputs": [
        {
          "output_type": "stream",
          "name": "stdout",
          "text": [
            "[1, 2, 3, 2, 4, 5, 1, 0, 0, 0]\n"
          ]
        }
      ]
    },
    {
      "cell_type": "markdown",
      "source": [
        "**Optimal approach**:-\n",
        "Shifting the values in the array itself"
      ],
      "metadata": {
        "id": "UxggJXZ9Y33i"
      }
    },
    {
      "cell_type": "code",
      "source": [
        "#TC-O(N)\n",
        "#SC-O(1)\n",
        "a=[1,0,2,3,2,0,0,4,5,1]\n",
        "i=-1\n",
        "for j in range(len(a)):\n",
        "  if a[j]==0:\n",
        "    i=j\n",
        "    break\n",
        "\n",
        "for k in range(i+1,len(a)):\n",
        "  if a[k]!=0:\n",
        "    a[k],a[i]=a[i],a[k]\n",
        "    i+=1\n",
        "print(a)"
      ],
      "metadata": {
        "colab": {
          "base_uri": "https://localhost:8080/"
        },
        "id": "r5JT4QSlWNzN",
        "outputId": "6534c31b-3578-4b45-a752-e24159fe32b5"
      },
      "execution_count": null,
      "outputs": [
        {
          "output_type": "stream",
          "name": "stdout",
          "text": [
            "[1, 2, 3, 2, 4, 5, 1, 0, 0, 0]\n"
          ]
        }
      ]
    },
    {
      "cell_type": "markdown",
      "source": [
        "**linear search** :-"
      ],
      "metadata": {
        "id": "UYc_7ZUzbQ9y"
      }
    },
    {
      "cell_type": "code",
      "source": [
        "a = [6,7,8,3,5]\n",
        "num = 3\n",
        "for i in range(len(a)):\n",
        "  if i==num:\n",
        "    print(i)"
      ],
      "metadata": {
        "colab": {
          "base_uri": "https://localhost:8080/"
        },
        "id": "1xlhCOQYZLVj",
        "outputId": "e21f3055-8e7c-4221-ffb6-4b9838ba53c7"
      },
      "execution_count": null,
      "outputs": [
        {
          "output_type": "stream",
          "name": "stdout",
          "text": [
            "3\n"
          ]
        }
      ]
    },
    {
      "cell_type": "markdown",
      "source": [
        "**Union of two sorted arrays**\n",
        "\n",
        "Time complexity: O(n)\n",
        "\n",
        "\n",
        "Space complexity: O(n)"
      ],
      "metadata": {
        "id": "7AVai2lNZRBW"
      }
    },
    {
      "cell_type": "code",
      "source": [
        "#Brute force\n",
        "a1 = [1,2,3,4,5]\n",
        "a2 = [6,7,8,9,10]\n",
        "s=set()\n",
        "for i in range(len(a1)):\n",
        "  s.add(a1[i])\n",
        "for j  in range(len(a2)):\n",
        "  s.add(a2[j])\n",
        "print(s)"
      ],
      "metadata": {
        "colab": {
          "base_uri": "https://localhost:8080/"
        },
        "id": "VGkvpb1sYJwe",
        "outputId": "6da60de2-6430-4e90-d2b4-3ddb9a906ff1"
      },
      "execution_count": null,
      "outputs": [
        {
          "output_type": "stream",
          "name": "stdout",
          "text": [
            "{1, 2, 3, 4, 5, 6, 7, 8, 9, 10}\n"
          ]
        }
      ]
    },
    {
      "cell_type": "markdown",
      "source": [
        "**Optimal Approach**"
      ],
      "metadata": {
        "id": "JjAVIfRVkPZw"
      }
    },
    {
      "cell_type": "code",
      "source": [
        "\n",
        "\n",
        "\n",
        "def find_union(arr1, arr2):\n",
        "    i, j = 0, 0  # Pointers\n",
        "    union = []  # Union list\n",
        "\n",
        "    while i < len(arr1) and j < len(arr2):\n",
        "        if arr1[i] <= arr2[j]:  # Case 1 and 2\n",
        "            if len(union) == 0 or union[-1] != arr1[i]:\n",
        "                union.append(arr1[i])\n",
        "            i += 1\n",
        "        else:  # Case 3\n",
        "            if len(union) == 0 or union[-1] != arr2[j]:\n",
        "                union.append(arr2[j])\n",
        "            j += 1\n",
        "\n",
        "    while i < len(arr1):  # If any elements left in arr1\n",
        "        if union[-1] != arr1[i]:\n",
        "            union.append(arr1[i])\n",
        "        i += 1\n",
        "\n",
        "    while j < len(arr2):  # If any elements left in arr2\n",
        "        if union[-1] != arr2[j]:\n",
        "            union.append(arr2[j])\n",
        "        j += 1\n",
        "\n",
        "    return union\n",
        "\n",
        "\n",
        "arr1 = [1, 2, 3, 4, 5, 6, 7, 8, 9, 10]\n",
        "arr2 = [2, 3, 4, 4, 5, 11, 12]\n",
        "\n",
        "union = find_union(arr1, arr2)\n",
        "\n",
        "print(\"Union of arr1 and arr2 is:\")\n",
        "print(*union)\n",
        "\n"
      ],
      "metadata": {
        "colab": {
          "base_uri": "https://localhost:8080/"
        },
        "id": "v1t4bg0OrVgd",
        "outputId": "64041971-d72f-4f0c-f332-0b96021ff5f2"
      },
      "execution_count": null,
      "outputs": [
        {
          "output_type": "stream",
          "name": "stdout",
          "text": [
            "Union of arr1 and arr2 is:\n",
            "1 2 3 4 5 6 7 8 9 10 11 12\n"
          ]
        }
      ]
    },
    {
      "cell_type": "markdown",
      "source": [
        "**Intersection of two sorted arrays**"
      ],
      "metadata": {
        "id": "T1HKdmi-dvFR"
      }
    },
    {
      "cell_type": "code",
      "source": [
        "#Brute force approach\n",
        "a=[1,2,2,3,3,4,5,6]\n",
        "b=[2,3,3,5,6,6,7]\n",
        "out=[]\n",
        "for i in range(len(a)):\n",
        "  if a[i] in b:\n",
        "    out.append(a[i])\n",
        "print(out)"
      ],
      "metadata": {
        "colab": {
          "base_uri": "https://localhost:8080/"
        },
        "id": "NhIUjWa2tXqd",
        "outputId": "32b748ec-98ea-481f-85dc-c8a7b63558da"
      },
      "execution_count": null,
      "outputs": [
        {
          "output_type": "stream",
          "name": "stdout",
          "text": [
            "[2, 2, 3, 3, 5, 6]\n"
          ]
        }
      ]
    },
    {
      "cell_type": "code",
      "source": [
        "#Optimal approach\n",
        "#TC-O(N1+N2)\n",
        "#SC-O(1)\n",
        "a=[1,2,2,3,3,4,5,6]\n",
        "b=[2,3,3,5,6,6,7]\n",
        "out=[]\n",
        "i=0\n",
        "j=0\n",
        "while(i<len(a) and j<len(b)):\n",
        "  if a[i]<b[j]:\n",
        "    i+=1\n",
        "  elif b[j]<a[i]:\n",
        "    j+=1\n",
        "  else:\n",
        "    out.append(a[i])\n",
        "    i+=1\n",
        "    j+=1\n",
        "print(out)"
      ],
      "metadata": {
        "id": "mVBVoVo_uSfQ",
        "colab": {
          "base_uri": "https://localhost:8080/"
        },
        "outputId": "27013c17-a2e9-4d12-eaec-45dfeb37393e"
      },
      "execution_count": null,
      "outputs": [
        {
          "output_type": "stream",
          "name": "stdout",
          "text": [
            "[2, 3, 3, 5, 6]\n"
          ]
        }
      ]
    },
    {
      "cell_type": "markdown",
      "source": [
        "**Missing Number**"
      ],
      "metadata": {
        "id": "qjM0D43AzVzd"
      }
    },
    {
      "cell_type": "code",
      "source": [
        "# Brute force\n",
        "# TC-O(N)\n",
        "# SC-O(1)\n",
        "n = 5\n",
        "a = [1,2,4,5]\n",
        "for i in range(1,n+1):\n",
        "  if i not in a:\n",
        "    print(i)\n"
      ],
      "metadata": {
        "colab": {
          "base_uri": "https://localhost:8080/"
        },
        "id": "wz8jXBoRwwbi",
        "outputId": "121618a8-0cbd-4749-bbab-8c06e7a8753c"
      },
      "execution_count": null,
      "outputs": [
        {
          "output_type": "stream",
          "name": "stdout",
          "text": [
            "3\n"
          ]
        }
      ]
    },
    {
      "cell_type": "code",
      "source": [
        "#Better approach\n",
        "#TC - O(N)\n",
        "#SC-O(1)\n",
        "n = 5\n",
        "a = [1,2,4,5]\n",
        "s_n = n*(n+1)/2\n",
        "sum = 0\n",
        "for i in range(len(a)):\n",
        "  sum+=a[i]\n",
        "result = s_n - sum\n",
        "print(result)\n",
        "\n"
      ],
      "metadata": {
        "colab": {
          "base_uri": "https://localhost:8080/"
        },
        "id": "vk7xfUEy28_7",
        "outputId": "f79398a1-f013-4197-a94d-b83a3e1beb75"
      },
      "execution_count": null,
      "outputs": [
        {
          "output_type": "stream",
          "name": "stdout",
          "text": [
            "3.0\n"
          ]
        }
      ]
    },
    {
      "cell_type": "code",
      "source": [
        "#Optimal approach\n",
        "n=5\n",
        "a=[1,2,4,5]\n",
        "xor1=0\n",
        "xor2=0\n",
        "for i in range(n-1):\n",
        "  xor1=xor1^(i+1)\n",
        "  xor2=xor2^(a[i])\n",
        "xor1=xor1^n\n",
        "res=xor1^xor2\n",
        "print(res)\n"
      ],
      "metadata": {
        "colab": {
          "base_uri": "https://localhost:8080/"
        },
        "id": "VEpEvpfX3L3e",
        "outputId": "5815bed5-2bd6-439c-878e-82afab7ee29d"
      },
      "execution_count": null,
      "outputs": [
        {
          "output_type": "stream",
          "name": "stdout",
          "text": [
            "3\n"
          ]
        }
      ]
    },
    {
      "cell_type": "markdown",
      "source": [
        "#Difference between optimal approach and better approach is in the better approach if n is too large ex 10^7 then to store it we need long dtype which requires more memory so xor approach is the optimal one"
      ],
      "metadata": {
        "id": "XmUS62Nn75vK"
      }
    },
    {
      "cell_type": "markdown",
      "source": [
        "**Find the maximum consecutive ones in an array**"
      ],
      "metadata": {
        "id": "WCjRcR9x9eXq"
      }
    },
    {
      "cell_type": "code",
      "source": [
        "# optimal approach\n",
        "a=[1,1,0,1,1,1,0]\n",
        "maxi=0\n",
        "count=0\n",
        "for i in range(len(a)):\n",
        "  if a[i]==1:\n",
        "    count+=1\n",
        "    maxi=max(maxi,count)\n",
        "  else:\n",
        "    count=0\n",
        "print(maxi)"
      ],
      "metadata": {
        "colab": {
          "base_uri": "https://localhost:8080/"
        },
        "id": "LQImrpsa73rj",
        "outputId": "18ba8b18-adfc-4d59-85bd-913b014fa84d"
      },
      "execution_count": null,
      "outputs": [
        {
          "output_type": "stream",
          "name": "stdout",
          "text": [
            "3\n"
          ]
        }
      ]
    },
    {
      "cell_type": "code",
      "source": [
        "# Brute force approach\n",
        "a=[1,1,2,3,3,4,4]\n",
        "d={}\n",
        "for i in range(len(a)):\n",
        "  if a[i] not in d:\n",
        "     d[a[i]]=1\n",
        "  else:\n",
        "    d[a[i]]+=1\n",
        "for i in d:\n",
        "  if d[i]==1:\n",
        "    print(i)"
      ],
      "metadata": {
        "colab": {
          "base_uri": "https://localhost:8080/"
        },
        "id": "uR3kOY19-EfA",
        "outputId": "87a8f663-e25c-4d39-f648-7efbfdb256c2"
      },
      "execution_count": null,
      "outputs": [
        {
          "output_type": "stream",
          "name": "stdout",
          "text": [
            "2\n"
          ]
        }
      ]
    },
    {
      "cell_type": "markdown",
      "source": [
        "**Longest Sub array with Sum K**"
      ],
      "metadata": {
        "id": "nfkuaEL7hcbC"
      }
    },
    {
      "cell_type": "code",
      "source": [
        "#Brute force approach\n",
        "#TC-O(N*N*N)\n",
        "#SC-O(1)\n",
        "def getLongestSubarray(a,k):\n",
        "    n = len(a) # size of the array.\n",
        "\n",
        "    length = 0\n",
        "    for i in range(n): # starting index\n",
        "        for j in range(i, n): # ending index\n",
        "            # add all the elements of\n",
        "            # subarray = a[i...j]:\n",
        "            s = 0\n",
        "            for K in range(i, j+1):\n",
        "                s += a[K]\n",
        "\n",
        "            if s == k:\n",
        "                length = max(length, j - i + 1)\n",
        "    return length\n",
        "\n",
        "if __name__ == \"__main__\":\n",
        "\ta = [2, 3, 5, 1, 9]\n",
        "\tk = 10\n",
        "\n",
        "\tlength = getLongestSubarray(a, k)\n",
        "\tprint(f\"The length of the longest subarray is: {length}\")\n",
        "\n"
      ],
      "metadata": {
        "id": "rzt0ixIQ_mgz",
        "colab": {
          "base_uri": "https://localhost:8080/"
        },
        "outputId": "97420422-6be3-4eac-9d16-62af796bf74a"
      },
      "execution_count": null,
      "outputs": [
        {
          "output_type": "stream",
          "name": "stdout",
          "text": [
            "The length of the longest subarray is: 3\n"
          ]
        }
      ]
    },
    {
      "cell_type": "code",
      "source": [
        "#Better approach\n",
        "#TC-O(N*N)\n",
        "#SC-O(1)\n",
        "def getLongestSubarray(a, k):\n",
        "  maxlen=0\n",
        "  n=len(a)\n",
        "  for i in range(n):\n",
        "    sum=0\n",
        "    for j in range(i,n):\n",
        "      sum+=a[j]\n",
        "      if sum==k:\n",
        "        maxlen = max(maxlen,j-i+1)\n",
        "  return maxlen\n",
        "\n",
        "\n",
        "if __name__ == \"__main__\":\n",
        "\ta = [2, 3, 5, 1, 9]\n",
        "\tk = 10\n",
        "\n",
        "\tlength = getLongestSubarray(a, k)\n",
        "\tprint(f\"The length of the longest subarray is: {length}\")"
      ],
      "metadata": {
        "colab": {
          "base_uri": "https://localhost:8080/"
        },
        "id": "WC7xUpfF10Oq",
        "outputId": "d8441ad5-5f1e-4f39-b8fb-35397373aaa1"
      },
      "execution_count": null,
      "outputs": [
        {
          "output_type": "stream",
          "name": "stdout",
          "text": [
            "The length of the longest subarray is: 3\n"
          ]
        }
      ]
    },
    {
      "cell_type": "code",
      "source": [
        "\n",
        "\n",
        "\n",
        "from typing import List\n",
        "\n",
        "def getLongestSubarray(a: [int], k: int) -> int:\n",
        "    n = len(a) # size of the array.\n",
        "\n",
        "    preSumMap = {}\n",
        "    Sum = 0\n",
        "    maxLen = 0\n",
        "    for i in range(n):\n",
        "        # calculate the prefix sum till index i:\n",
        "        Sum += a[i]\n",
        "\n",
        "        # if the sum = k, update the maxLen:\n",
        "        if Sum == k:\n",
        "            maxLen = max(maxLen, i + 1)\n",
        "\n",
        "        # calculate the sum of remaining part i.e. x-k:\n",
        "        rem = Sum - k\n",
        "\n",
        "        # Calculate the length and update maxLen:\n",
        "        if rem in preSumMap:\n",
        "            length = i - preSumMap[rem]\n",
        "            maxLen = max(maxLen, length)\n",
        "            print(preSumMap)\n",
        "\n",
        "        # Finally, update the map checking the conditions:\n",
        "        if Sum not in preSumMap:\n",
        "            preSumMap[Sum] = i\n",
        "            # print(preSumMap)\n",
        "\n",
        "    return maxLen\n",
        "\n",
        "if __name__ == \"__main__\":\n",
        "\ta = [2, 3, 5, 1, 9]\n",
        "\tk = 10\n",
        "\n",
        "\tlength = getLongestSubarray(a, k)\n",
        "\tprint(f\"The length of the longest subarray is: {length}\")\n",
        "\n",
        "\n",
        "\n"
      ],
      "metadata": {
        "colab": {
          "base_uri": "https://localhost:8080/"
        },
        "id": "mZdoVmRw2YaC",
        "outputId": "4f74015e-83ba-4794-b9cd-be54fd963396"
      },
      "execution_count": null,
      "outputs": [
        {
          "output_type": "stream",
          "name": "stdout",
          "text": [
            "{2: 0, 5: 1, 10: 2, 11: 3}\n",
            "The length of the longest subarray is: 3\n"
          ]
        }
      ]
    },
    {
      "cell_type": "code",
      "source": [
        "\n",
        "\n",
        "\n",
        "from typing import List\n",
        "\n",
        "def getLongestSubarray(a: [int], k: int) -> int:\n",
        "    n = len(a) # size of the array.\n",
        "\n",
        "    left, right = 0, 0 # 2 pointers\n",
        "    Sum = a[0]\n",
        "    maxLen = 0\n",
        "    while right < n:\n",
        "        # if sum > k, reduce the subarray from left\n",
        "        # until sum becomes less or equal to k:\n",
        "        while left <= right and Sum > k:\n",
        "            Sum -= a[left]\n",
        "            left += 1\n",
        "\n",
        "        # if sum = k, update the maxLen i.e. answer:\n",
        "        if Sum == k:\n",
        "            maxLen = max(maxLen, right - left + 1)\n",
        "\n",
        "        # Move forward the right pointer:\n",
        "        right += 1\n",
        "        if right < n: Sum += a[right]\n",
        "\n",
        "    return maxLen\n",
        "\n",
        "\n",
        "if __name__ == \"__main__\":\n",
        "\ta = [2, 3, 5, 1, 9]\n",
        "\tk = 10\n",
        "\n",
        "\tlength = getLongestSubarray(a, k)\n",
        "\tprint(f\"The length of the longest subarray is: {length}\")\n",
        "\n",
        "\n",
        "\n"
      ],
      "metadata": {
        "colab": {
          "base_uri": "https://localhost:8080/"
        },
        "id": "rodCwQZQ5i_p",
        "outputId": "7102b045-b0ea-4785-b3c4-c2801d1aee7e"
      },
      "execution_count": null,
      "outputs": [
        {
          "output_type": "stream",
          "name": "stdout",
          "text": [
            "The length of the longest subarray is: 3\n"
          ]
        }
      ]
    }
  ]
}