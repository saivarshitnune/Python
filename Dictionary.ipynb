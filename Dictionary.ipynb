{
 "cells": [
  {
   "cell_type": "code",
   "execution_count": null,
   "id": "11c78866",
   "metadata": {},
   "outputs": [],
   "source": [
    "d={'emp1':{'name':'SAI VARSHITH'},'emp2':{'salary':20000}}\n",
    "print(d['emp1']['name'])\n",
    "print(d['emp2']['salary'])"
   ]
  },
  {
   "cell_type": "code",
   "execution_count": null,
   "id": "aa99aa12",
   "metadata": {},
   "outputs": [],
   "source": [
    "d1=eval(input(\"Enter a dictionary\"))\n",
    "print(d1)"
   ]
  },
  {
   "cell_type": "code",
   "execution_count": null,
   "id": "6daf517a",
   "metadata": {},
   "outputs": [],
   "source": [
    "d=dict([(2,500),('Colour','Red'),('Complex number','10+20j')])\n",
    "print(d)"
   ]
  },
  {
   "cell_type": "code",
   "execution_count": null,
   "id": "57ba6de0",
   "metadata": {},
   "outputs": [],
   "source": [
    "d=dict(zip([10,20,1],[100,'triangle','python']))\n",
    "print(d)"
   ]
  },
  {
   "cell_type": "code",
   "execution_count": null,
   "id": "a96b1e70",
   "metadata": {},
   "outputs": [],
   "source": [
    "d1=d\n",
    "print(d1)\n",
    "print(id(d1))"
   ]
  },
  {
   "cell_type": "code",
   "execution_count": null,
   "id": "18bc34f3",
   "metadata": {},
   "outputs": [],
   "source": [
    "d2=d.copy()\n",
    "print(d2)\n",
    "print(id(d2)) #Creates different id for shallow copy"
   ]
  },
  {
   "cell_type": "code",
   "execution_count": null,
   "id": "71e2f1ca",
   "metadata": {},
   "outputs": [],
   "source": [
    "d={'emp1':{'name':'sai','rollno':1197328,'Unit':'IBPM'},'emp2':{'name':'Leela','rollno':95000742,'Unit':'Google'}}\n",
    "print(d)\n",
    "print(id(d))\n",
    "d['emp3']={'name':'Vineesha','rollno':8765423,'unit':'Infosys'}\n",
    "print(d)\n",
    "print(id(d))"
   ]
  },
  {
   "cell_type": "code",
   "execution_count": null,
   "id": "9637151d",
   "metadata": {},
   "outputs": [],
   "source": [
    "d.get('emp1')\n",
    "d.get('emp3')"
   ]
  },
  {
   "cell_type": "code",
   "execution_count": null,
   "id": "e2193a61",
   "metadata": {},
   "outputs": [],
   "source": [
    "d.setdefault('emp5','this value is not present')\n",
    "print(d)\n"
   ]
  },
  {
   "cell_type": "code",
   "execution_count": null,
   "id": "c19889fd",
   "metadata": {},
   "outputs": [],
   "source": [
    "d1={10:100,'Bestie':'Vineesha','Passion':'data science'}\n",
    "d.update(d1)\n",
    "print(d)"
   ]
  },
  {
   "cell_type": "code",
   "execution_count": null,
   "id": "c2979fa6",
   "metadata": {},
   "outputs": [],
   "source": [
    "print(d.pop('emp1'))"
   ]
  },
  {
   "cell_type": "code",
   "execution_count": null,
   "id": "ad96cde1",
   "metadata": {},
   "outputs": [],
   "source": [
    "print(d.popitem())"
   ]
  },
  {
   "cell_type": "code",
   "execution_count": null,
   "id": "3d2c4749",
   "metadata": {},
   "outputs": [],
   "source": [
    "print(d.keys())"
   ]
  },
  {
   "cell_type": "code",
   "execution_count": null,
   "id": "65df018f",
   "metadata": {},
   "outputs": [],
   "source": [
    "for i in d.keys():\n",
    "    print(i,d[i])\n"
   ]
  },
  {
   "cell_type": "code",
   "execution_count": null,
   "id": "a38ec12f",
   "metadata": {},
   "outputs": [],
   "source": [
    "for i in d.values():\n",
    "    print(i)"
   ]
  },
  {
   "cell_type": "code",
   "execution_count": null,
   "id": "8a0e9f5f",
   "metadata": {},
   "outputs": [],
   "source": [
    "for i in d.items():\n",
    "    print(i)"
   ]
  },
  {
   "cell_type": "code",
   "execution_count": null,
   "id": "21fa0b6f",
   "metadata": {},
   "outputs": [],
   "source": [
    "d1=d2.fromkeys([1,2,3,4])\n",
    "print(d1)\n",
    "d1=d2.fromkeys([1,2,3,4],20) #from keys take only two arguements \n",
    "print(d2)"
   ]
  },
  {
   "cell_type": "code",
   "execution_count": null,
   "id": "874410d3",
   "metadata": {},
   "outputs": [],
   "source": [
    "#Dictionary Comprehension\n",
    "{i:i**2 for i in range(2,10,2)}"
   ]
  },
  {
   "cell_type": "code",
   "execution_count": null,
   "id": "7546b4b1",
   "metadata": {},
   "outputs": [],
   "source": [
    "#Assignment\n",
    "# Initialize a dictionary \"emp_info\" with below details\n",
    "# In - emp_info['Tom']\n",
    "# Out - {'email':'tom_latham019@gmail.com', 'Phone': +1987654321, 'City': 'California'}\n",
    "emp_info={'Tom':{'email':'tom_latham019@gmail.com','Phone': +1987654321, 'City': 'California'}}\n",
    "print(emp_info)"
   ]
  },
  {
   "cell_type": "code",
   "execution_count": null,
   "id": "13984fdb",
   "metadata": {},
   "outputs": [],
   "source": [
    "emp_info={'kathy':{'email':'kathy_abram897@gmail.com', 'Phone': +1887654321, 'City': 'New York'}}\n",
    "print(emp_info.values())"
   ]
  },
  {
   "cell_type": "code",
   "execution_count": null,
   "id": "9f2029ac",
   "metadata": {},
   "outputs": [],
   "source": [
    "d = {\"class\":{\"student\":{\"name\":\"Mike\",\"marks\":{\"physics\":70,\"history\":80}}}}\n",
    "print(d['class']['student']['marks']['history'])\n"
   ]
  },
  {
   "cell_type": "code",
   "execution_count": null,
   "id": "69e3ac89",
   "metadata": {},
   "outputs": [],
   "source": [
    "# x='google.com'\n",
    "# k=0\n",
    "# t=0\n",
    "# a=0\n",
    "# b=0\n",
    "# f=0\n",
    "# d=0\n",
    "# j=0\n",
    "# for i in x:\n",
    "#     if(i=='g'):\n",
    "#         k+=1\n",
    "#     elif(i=='o'):\n",
    "#         t+=1\n",
    "#     elif(i=='l'):\n",
    "#         a+=1\n",
    "#     elif(i=='e'):\n",
    "#         b+=1\n",
    "#     elif(i=='.'):\n",
    "#         f+=1\n",
    "#     elif(i=='c'):\n",
    "#         d+=1\n",
    "#     else:\n",
    "#         j+=1\n",
    "\n"
   ]
  },
  {
   "cell_type": "code",
   "execution_count": null,
   "id": "221ff49c",
   "metadata": {},
   "outputs": [],
   "source": [
    "def count_letter(X):\n",
    "    d=dict()\n",
    "    for i in X:\n",
    "        if i not in d:\n",
    "            d[i]=1\n",
    "        else:\n",
    "            d[i]+=1\n",
    "    return d\n",
    "count_letter('google.com')"
   ]
  },
  {
   "cell_type": "code",
   "execution_count": null,
   "id": "63a17c61",
   "metadata": {},
   "outputs": [],
   "source": [
    "def count_letter(X):\n",
    "    d=dict()\n",
    "    for i in X:\n",
    "        if i not in d:\n",
    "            d[i]=1\n",
    "        else:\n",
    "            d[i]+=1\n",
    "    return d\n",
    "count_letter(\"CTATCGGCACCCTTTCAGCA\")\n",
    "#count_letter('AGT')"
   ]
  },
  {
   "cell_type": "code",
   "execution_count": null,
   "id": "774c46f0",
   "metadata": {},
   "outputs": [],
   "source": [
    "d={}\n",
    "# d['Name']='Tom'\n",
    "#d={'Name':'Tom'}\n",
    "#d.update({\"Name\": \"Tom\" })\n",
    "d.setdefault(\"Name\")\n",
    "print(d)"
   ]
  },
  {
   "cell_type": "code",
   "execution_count": null,
   "id": "910dcaf5",
   "metadata": {},
   "outputs": [],
   "source": [
    "d = {\"a\":1, \"b\":2}\n",
    "d.values()"
   ]
  },
  {
   "cell_type": "code",
   "execution_count": null,
   "id": "9a03fda9",
   "metadata": {},
   "outputs": [],
   "source": [
    "# d = { [\"First\", \"Last\"]: (1,3) }\n",
    "# print(d)"
   ]
  },
  {
   "cell_type": "code",
   "execution_count": null,
   "id": "dbaeab54",
   "metadata": {},
   "outputs": [],
   "source": [
    "# In - reverseLookup({'a':1, 'b':2, 'c':2}, 1)\n",
    "# Out - ['a']\n",
    "# In - reverseLookup({'a':1, 'b':2, 'c':2}, 2)\n",
    "# Out - ['b', 'c']\n",
    "# In - reverseLookup({'a':1, 'b':2, 'c':2}, 3)\n",
    "# Out - []\n",
    "def reverseLookup(dict,var):\n",
    "    lst=[]\n",
    "    for i in dict.keys():\n",
    "        if(dict[i]==var):\n",
    "            lst.extend(i)\n",
    "    print(lst)\n",
    "#reverseLookup({'a':1, 'b':2, 'c':2}, 1)\n",
    "#reverseLookup({'a':1, 'b':2, 'c':2}, 2)\n",
    "#Why append function is not working?"
   ]
  },
  {
   "cell_type": "code",
   "execution_count": null,
   "id": "ab44ccd0",
   "metadata": {},
   "outputs": [],
   "source": [
    "# In - invertDictionary({'a':1, 'b':2, 'c':3, 'd':2})\n",
    "# Out - {1: ['a'], 2: ['b', 'd'], 3: ['c']}\n",
    "# In - invertDictionary({'a':3, 'b':3, 'c':3})\n",
    "# Out - {3: ['a', 'c', 'b']}\n",
    "# In - invertDictionary({'a':2, 'b':1, 'c':2, 'd':1})\n",
    "# Out - {1: ['b', 'd'], 2: ['a', 'c']}\n",
    "#Swapping keys and values in a dictionary with out using keys and values.\n",
    "# dict=({'a':1, 'b':2, 'c':3, 'd':2})\n",
    "# d2={}\n",
    "# for i ,j in dict.items():\n",
    "#     d2[j]=i\n",
    "# print(d2)"
   ]
  },
  {
   "cell_type": "code",
   "execution_count": null,
   "id": "57755940",
   "metadata": {},
   "outputs": [],
   "source": [
    "#Swapping keys and values in a dictionary without using items\n",
    "# dict=({'a':1, 'b':2, 'c':3, 'd':2})\n",
    "# d2={}\n",
    "# for i in dict:\n",
    "#     j=dict[i]\n",
    "#     d2[j]=i\n",
    "# print(d2)"
   ]
  },
  {
   "cell_type": "code",
   "execution_count": null,
   "id": "253dae20",
   "metadata": {},
   "outputs": [],
   "source": [
    "#Given a Python dictionary, Change Brad’s salary to 8500\n",
    "sampleDict = {'emp1': {'name': 'Jhon', 'salary': 7500},'emp2': {'name': 'Emma', 'salary': 8000},'emp3': {'name': 'Brad', 'salary': 6500} }\n",
    "sampleDict['emp3']['salary']=8500\n",
    "print(sampleDict)"
   ]
  },
  {
   "cell_type": "code",
   "execution_count": null,
   "id": "694ec175",
   "metadata": {},
   "outputs": [],
   "source": [
    "# Get the key corresponding to the minimum value from the following dictionary\n",
    "dictionary = {'Physics': 82,'Math': 65,'history': 75}\n",
    "print(min(dictionary, key=dictionary.get))\n"
   ]
  },
  {
   "cell_type": "code",
   "execution_count": null,
   "id": "c63cd65c",
   "metadata": {},
   "outputs": [],
   "source": [
    "d = {'a': 100, 'b': 200, 'c': 300}\n",
    "for i in d:\n",
    "    if d[i]==200:\n",
    "        print(True)\n",
    "    else:\n",
    "        print(False)"
   ]
  },
  {
   "cell_type": "code",
   "execution_count": null,
   "id": "6af69992",
   "metadata": {},
   "outputs": [],
   "source": [
    "# Delete set of keys from Python Dictionary\n",
    "sampleDict = {\"name\": \"Kelly\",\"age\":25,\"salary\": 8000, \"city\": \"New york\"}\n",
    "sampleDict.pop(\"name\")\n",
    "sampleDict.pop(\"salary\")\n",
    "print(sampleDict)\n",
    " "
   ]
  },
  {
   "cell_type": "code",
   "execution_count": null,
   "id": "e9f8c892",
   "metadata": {},
   "outputs": [],
   "source": [
    "#Dictionary Comprehension\n",
    "# dict1={}\n",
    "# for n in range(10):\n",
    "#     dict1[n]=n**2\n",
    "# print(dict1)\n",
    "dict2={n:n*2 for n in range(10) if(n%2==0)}\n",
    "print(dict2)"
   ]
  },
  {
   "cell_type": "code",
   "execution_count": null,
   "id": "e9fd7100",
   "metadata": {},
   "outputs": [],
   "source": [
    "dict1={n:n**2 for n in range(1,6)}\n",
    "print(dict1)"
   ]
  },
  {
   "cell_type": "code",
   "execution_count": null,
   "id": "9db67854",
   "metadata": {},
   "outputs": [],
   "source": [
    "#Dictionary-W3 Schools\n",
    "#Write a Python script to sort (ascending and descending) a dictionary by value.\n",
    "#d={2:'Vinni',3:'Varshith',1:'Sreekar',4:'Leela'}\n"
   ]
  },
  {
   "cell_type": "code",
   "execution_count": null,
   "id": "775f2bae",
   "metadata": {},
   "outputs": [],
   "source": [
    "# Write a Python script to concatenate following dictionaries to create a new one.\n",
    "dic1={1:10, 2:20}\n",
    "dic2={3:30, 4:40}\n",
    "dic3={5:50,6:60}\n",
    "dic4={}\n",
    "dic4=dic1.copy()\n",
    "dic4.update(dic2)\n",
    "dic4.update(dic3)\n",
    "# for i in dic1:\n",
    "#     dic4.update(i)\n",
    "#     for i in dic2:\n",
    "#         dic4.update(i)\n",
    "#         for i in dic3:\n",
    "#             dic4.update(i)\n",
    " for i in (dic1,dic2,dic3):\n",
    "    dic4.update(i)\n",
    "print(dic4)"
   ]
  },
  {
   "cell_type": "code",
   "execution_count": null,
   "id": "e63da417",
   "metadata": {},
   "outputs": [],
   "source": [
    "# Write a Python script to check whether a given key already exists in a dictionary.\n",
    "d={1: 10, 2: 20, 3: 30, 4: 40, 5: 50, 6: 60}\n",
    "for i in d:\n",
    "    if i  in d:\n",
    "        print(True)\n",
    "    else:\n",
    "        print(False)"
   ]
  },
  {
   "cell_type": "code",
   "execution_count": null,
   "id": "ebf5dd4b",
   "metadata": {},
   "outputs": [],
   "source": [
    "#Write a Python program to iterate over dictionaries using for loops\n",
    "d={1: 10, 2: 20, 3: 30, 4: 40, 5: 50, 6: 60}\n",
    "for i in d:\n",
    "    print(i,d[i])"
   ]
  },
  {
   "cell_type": "code",
   "execution_count": null,
   "id": "a9ce128d",
   "metadata": {},
   "outputs": [],
   "source": [
    "#Write a Python script to print a dictionary where the keys are numbers between 1 and 15 (both included) and the values are square of keys.\n",
    "dict={n:n**2 for n in range(1,16)}\n",
    "print(dict)"
   ]
  },
  {
   "cell_type": "code",
   "execution_count": null,
   "id": "cd7e0a35",
   "metadata": {},
   "outputs": [],
   "source": [
    "#Write a Python script to merge two Python dictionaries\n",
    "d1={1:10,2:30,3:40,4:50}\n",
    "d2={2:4,5:8}\n",
    "d3={}\n",
    "for i in (d1,d2):\n",
    "    d3.update(i)\n",
    "print(d3)"
   ]
  },
  {
   "cell_type": "code",
   "execution_count": null,
   "id": "3abc4b0e",
   "metadata": {},
   "outputs": [],
   "source": [
    "#Write a Python program to sum all the items in a dictionary.\n",
    "d1={1:10,2:30,3:40,4:50}\n",
    "k=0\n",
    "for i in d1:\n",
    "    k+=d1[i]\n",
    "print(k)\n",
    "#Note:- Why items implies values\n",
    "    "
   ]
  },
  {
   "cell_type": "code",
   "execution_count": null,
   "id": "09bda9f6",
   "metadata": {},
   "outputs": [],
   "source": [
    "#Write a Python program to product all the items in a dictionary.\n",
    "d1={1:10,2:30,3:40,4:50,6:70}\n",
    "k=1\n",
    "for i in d1:\n",
    "    k*=d1[i]\n",
    "print(k)\n"
   ]
  },
  {
   "cell_type": "code",
   "execution_count": null,
   "id": "a9d128dd",
   "metadata": {},
   "outputs": [],
   "source": [
    "# Write a Python program to remove a key from a dictionary.\n",
    "d1={1:10,2:30,3:40,4:50,6:70}\n",
    "d1.pop(6)\n",
    "print(d1)"
   ]
  },
  {
   "cell_type": "code",
   "execution_count": null,
   "id": "6186cd1b",
   "metadata": {},
   "outputs": [],
   "source": [
    "#Write a Python program to map two lists into a dictionary.\n",
    "d1=[1,2,3]\n",
    "d2=['red','black','white']\n",
    "d3=dict(zip(d1,d2))\n",
    "print(d3)"
   ]
  },
  {
   "cell_type": "code",
   "execution_count": null,
   "id": "3fc6592b",
   "metadata": {},
   "outputs": [],
   "source": [
    "#Write a Python program to sort a given dictionary by key\n",
    "d={2:'blue',5:'red',7:'yellow',8:'white',1:'black'}\n",
    "l=sorted(d.keys())\n",
    "s=[]\n",
    "for ele in l:\n",
    "    s.append(d[ele])\n",
    "d=dict(zip(l,s))\n",
    "print(d)"
   ]
  },
  {
   "cell_type": "code",
   "execution_count": null,
   "id": "fb7d2481",
   "metadata": {},
   "outputs": [],
   "source": [
    "# Write a Python program to get the maximum and minimum value in a dictionary.\n",
    "my_dict = {'x':500, 'y':5874, 'z': 560}\n",
    "print(max(my_dict.values()))\n",
    "print(min(my_dict.values()))"
   ]
  },
  {
   "cell_type": "code",
   "execution_count": null,
   "id": "904ebbe3",
   "metadata": {},
   "outputs": [],
   "source": [
    "student_data = {'id1': \n",
    "   {'name': ['Sara'], 'class': ['V'], 'subject_integration': ['english, 'math', science']},'id2':  {'name': ['David'], 'class': ['V'], 'subject_integration': ['english', 'math', science']},'id3': {'name': ['Sara'], 'class': ['V'], 'subject_integration': ['english', 'math', 'science']},'id4': {'name': ['Surya'], 'class': ['V'], 'subject_integration': ['english', 'math', 'science'] },}"
   ]
  },
  {
   "cell_type": "markdown",
   "id": "fbbab564",
   "metadata": {},
   "source": [
    "d1 = {'a': 100, 'b': 200, 'c':300}\n",
    "d2 = {'a': 300, 'b': 200, 'd':400}\n",
    "lst=[]\n",
    "lst1=[]\n",
    "for i in d1:\n",
    "    print(i,d1[i])"
   ]
  },
  {
   "cell_type": "code",
   "execution_count": null,
   "id": "6d25f071",
   "metadata": {},
   "outputs": [],
   "source": [
    "d1={'p':10,'Q':20,'R':30}\n",
    "for i in d1:\n",
    "    print(i,d1[i])"
   ]
  },
  {
   "cell_type": "code",
   "execution_count": null,
   "id": "9ccab6ba",
   "metadata": {},
   "outputs": [],
   "source": [
    "# d1 = {'a': 100, 'b': 200, 'c':300}\n",
    "# d2 = {'a': 300, 'b': 200, 'd':400}\n",
    "# lst=[]\n",
    "# lst1=[]\n",
    "# for i in d1:\n",
    "#     for j in d2:\n",
    "#         if(i==j):\n",
    "#             k=d1[i]+d2[j]\n",
    "#             lst.append(k)\n",
    "# for key in (d1,d2):\n",
    "#     if key not in lst1:\n",
    "#         lst1.append(key)\n",
    "#     else:\n",
    "#         lst1.append(key)\n",
    "# print(lst1)"
   ]
  },
  {
   "cell_type": "code",
   "execution_count": null,
   "id": "d9906cb2",
   "metadata": {},
   "outputs": [],
   "source": [
    "# Write a Python program to print all unique values in a dictionary. \n",
    "# D ={\"V\":\"S001\", \"V\": \"S002\", \"VI\": \"S001\", \"VI\": \"S005\", \"VII\":\"S005\", \"V\":\"S009\",\"VIII\":\"S007\"}\n",
    "# for i in D:\n",
    "#     print(i,D[i])\n",
    "#Note:- How it is avoiding duplication while printing the keys?"
   ]
  },
  {
   "cell_type": "code",
   "execution_count": null,
   "id": "59da171d",
   "metadata": {},
   "outputs": [],
   "source": [
    "d={'1':['a','b'], '2':['c','d']}\n",
    "k=d['1']\n",
    "m=d['2']\n",
    "print(k[0]+m[0],k[0]+m[1],k[1]+m[0],k[1]+m[1])\n",
    "\n",
    "    "
   ]
  },
  {
   "cell_type": "code",
   "execution_count": null,
   "id": "04da8a74",
   "metadata": {},
   "outputs": [],
   "source": [
    "# Write a Python program to find the highest 3 values of corresponding keys in a dictionary.\n",
    "# d = {'a':500, 'b':5874, 'c': 560,'d':400, 'e':5874, 'f': 20}\n",
    "# k=[]\n",
    "# for i in d.values():\n",
    "#     k.append(i)\n",
    "# print(k)\n"
   ]
  },
  {
   "cell_type": "code",
   "execution_count": null,
   "id": "b97cc157",
   "metadata": {},
   "outputs": [],
   "source": [
    "#Write a Python program to combine values in python list of dictionaries. \n",
    "# d=[{'item': 'item1', 'amount': 400}, {'item': 'item2', 'amount': 300}, {'item': 'item1', 'amount': 750}]\n",
    "# k=d[0]['item']\n",
    "# m=d[1]['item']\n",
    "# l=d[0]['amount']+d[2]['amount']\n",
    "# n=d[1]['amount']\n",
    "# lst1=[k,m]\n",
    "# lst2=[l,n]\n",
    "# d1=dict(zip(lst1,lst2))\n",
    "# print(d1)"
   ]
  },
  {
   "cell_type": "code",
   "execution_count": null,
   "id": "75935b65",
   "metadata": {},
   "outputs": [],
   "source": [
    "str='w3resource'\n",
    "d={}\n",
    "for i in str:\n",
    "    if i not in d:\n",
    "        d[i]=1\n",
    "    else:\n",
    "        d[i]+=1\n",
    "print(d)"
   ]
  },
  {
   "cell_type": "code",
   "execution_count": null,
   "id": "46cf295d",
   "metadata": {},
   "outputs": [],
   "source": [
    "# Write a Python program to remove spaces from dictionary keys.\n",
    "# Write a Python program to convert a list into a nested dictionary of keys.\n",
    "# Write a Python program to remove spaces from dictionary keys"
   ]
  },
  {
   "cell_type": "code",
   "execution_count": null,
   "id": "22cf9954",
   "metadata": {},
   "outputs": [],
   "source": [
    "#Write a Python program to get the top three items in a shop.\n",
    "# d={'item1': 45.50, 'item2':35, 'item3': 41.30, 'item4':55, 'item5': 24}\n",
    "# k=list.append(d.values())\n",
    "# for i in d:\n",
    "#     if k"
   ]
  },
  {
   "cell_type": "code",
   "execution_count": null,
   "id": "02c9f7e8",
   "metadata": {},
   "outputs": [],
   "source": [
    "students = {'Aex':{'class':'V','rolld_id':2},'Puja':{'class':'V','roll_id':3}}\n",
    "for a in students:\n",
    "    print(a)\n",
    "    for b in students[a]:\n",
    "        print (b,':',students[a][b])"
   ]
  },
  {
   "cell_type": "code",
   "execution_count": null,
   "id": "9b5ba46b",
   "metadata": {},
   "outputs": [],
   "source": [
    "# Write a Python program to sort Counter by value\n",
    "# from collections import Counter\n",
    "# x = Counter({'Math':81, 'Physics':83, 'Chemistry':87})\n",
    "# print(x.most_common())"
   ]
  },
  {
   "cell_type": "code",
   "execution_count": null,
   "id": "05843ab8",
   "metadata": {},
   "outputs": [],
   "source": [
    "#Write a Python program to create a dictionary from two lists without losing duplicate values.\n",
    "d1=['Class-V', 'Class-VI', 'Class-VII', 'Class-VIII']\n",
    "d2=[1, 2, 2, 3]\n",
    "d3=dict(zip(d1,d2))\n",
    "print((d3))"
   ]
  },
  {
   "cell_type": "code",
   "execution_count": 9,
   "id": "0ece76b0",
   "metadata": {},
   "outputs": [
    {
     "name": "stdout",
     "output_type": "stream",
     "text": [
      "Key1:1 is present in both x and y\n"
     ]
    }
   ],
   "source": [
    "# Write a Python program to match key values in two dictionaries.\n",
    "# Sample dictionary: {'key1': 1, 'key2': 3, 'key3': 2}, {'key1': 1, 'key2': 2}\n",
    "# Expected output: key1: 1 is present in both x and y\n",
    "d1={'key1': 1, 'key2': 3, 'key3': 2}\n",
    "d2={'key1': 1, 'key2': 2}\n",
    "for i in d1.values():\n",
    "    for j in d2.values():\n",
    "        if i==j:\n",
    "            print(\"Key1:1 is present in both x and y\")\n",
    "    break\n",
    "    "
   ]
  },
  {
   "cell_type": "code",
   "execution_count": 30,
   "id": "2b2386db",
   "metadata": {},
   "outputs": [
    {
     "name": "stdout",
     "output_type": "stream",
     "text": [
      "15\n",
      "25\n",
      "35\n"
     ]
    }
   ],
   "source": [
    "#Write a Python program to create a dictionary of keys x, y, and z where each key has as value a list from 11-20, 21-30, and 31-40 respectively. Access the fifth value of each key from the dictionary. \n",
    "d={'x': [11, 12, 13, 14, 15, 16, 17, 18, 19],'y': [21, 22, 23, 24, 25, 26, 27, 28, 29],'z': [31, 32, 33, 34, 35, 36, 37, 38, 39]}\n",
    "k=d['x']\n",
    "l=d['y']\n",
    "m=d['z']\n",
    "for i in range(len(k)):\n",
    "    if i==4:\n",
    "        print(k[i])\n",
    "for j in range(len(l)):\n",
    "    if j==4:\n",
    "        print(l[j])\n",
    "for n in range(len(m)):\n",
    "    if n==4:\n",
    "        print(m[n])"
   ]
  },
  {
   "cell_type": "code",
   "execution_count": 37,
   "id": "c4fe170b",
   "metadata": {},
   "outputs": [
    {
     "name": "stdout",
     "output_type": "stream",
     "text": [
      "{'c1': 'Red', 'c2': 'Green'}\n"
     ]
    }
   ],
   "source": [
    "#Write a Python program to drop empty Items from a given Dictionary.\n",
    "d={'c1': 'Red', 'c2': 'Green', 'c3': None}\n",
    "d.pop('c3')\n",
    "print(d)"
   ]
  },
  {
   "cell_type": "code",
   "execution_count": 40,
   "id": "e3d4db3f",
   "metadata": {},
   "outputs": [
    {
     "ename": "AttributeError",
     "evalue": "'dict_values' object has no attribute 'pop'",
     "output_type": "error",
     "traceback": [
      "\u001b[1;31m---------------------------------------------------------------------------\u001b[0m",
      "\u001b[1;31mAttributeError\u001b[0m                            Traceback (most recent call last)",
      "\u001b[1;32m<ipython-input-40-df154e88898e>\u001b[0m in \u001b[0;36m<module>\u001b[1;34m\u001b[0m\n\u001b[0;32m      4\u001b[0m \u001b[1;32mfor\u001b[0m \u001b[0mi\u001b[0m \u001b[1;32min\u001b[0m \u001b[0mm\u001b[0m \u001b[1;33m:\u001b[0m\u001b[1;33m\u001b[0m\u001b[1;33m\u001b[0m\u001b[0m\n\u001b[0;32m      5\u001b[0m     \u001b[1;32mif\u001b[0m \u001b[0mi\u001b[0m\u001b[1;33m>\u001b[0m\u001b[0ml\u001b[0m\u001b[1;33m:\u001b[0m\u001b[1;33m\u001b[0m\u001b[1;33m\u001b[0m\u001b[0m\n\u001b[1;32m----> 6\u001b[1;33m         \u001b[0mm\u001b[0m\u001b[1;33m.\u001b[0m\u001b[0mpop\u001b[0m\u001b[1;33m(\u001b[0m\u001b[1;36m165\u001b[0m\u001b[1;33m)\u001b[0m\u001b[1;33m\u001b[0m\u001b[1;33m\u001b[0m\u001b[0m\n\u001b[0m\u001b[0;32m      7\u001b[0m \u001b[0mprint\u001b[0m\u001b[1;33m(\u001b[0m\u001b[0md\u001b[0m\u001b[1;33m)\u001b[0m\u001b[1;33m\u001b[0m\u001b[1;33m\u001b[0m\u001b[0m\n\u001b[0;32m      8\u001b[0m \u001b[1;33m\u001b[0m\u001b[0m\n",
      "\u001b[1;31mAttributeError\u001b[0m: 'dict_values' object has no attribute 'pop'"
     ]
    }
   ],
   "source": [
    "d={'Cierra Vega': 175, 'Alden Cantrell': 180, 'Kierra Gentry': 165, 'Pierre Cox': 190}\n",
    "l=170\n",
    "\n",
    "\n",
    "        \n",
    "        "
   ]
  },
  {
   "cell_type": "code",
   "execution_count": 46,
   "id": "c843776a",
   "metadata": {},
   "outputs": [
    {
     "name": "stdout",
     "output_type": "stream",
     "text": [
      "{'S001': 'Adina Park', 'S002': 'Leyton Marsh', 'S003': 'Duncan Boyle', 'S004': 'Saim Richards'}\n"
     ]
    }
   ],
   "source": [
    "d1=['S001', 'S002', 'S003', 'S004']\n",
    "d2=['Adina Park', 'Leyton Marsh', 'Duncan Boyle', 'Saim Richards']\n",
    "d3=[85, 98, 89, 92]\n",
    "d=dict(zip(d1,d2))\n",
    "print(d)"
   ]
  },
  {
   "cell_type": "code",
   "execution_count": 1,
   "id": "47c8685a",
   "metadata": {},
   "outputs": [
    {
     "name": "stdout",
     "output_type": "stream",
     "text": [
      "SAI VARSHITH\n",
      "20000\n"
     ]
    }
   ],
   "source": []
  },
  {
   "cell_type": "code",
   "execution_count": 3,
   "id": "b149b56b",
   "metadata": {},
   "outputs": [
    {
     "data": {
      "text/plain": [
       "'C:\\\\Users\\\\nune.saivarshith'"
      ]
     },
     "execution_count": 3,
     "metadata": {},
     "output_type": "execute_result"
    }
   ],
   "source": [
    "pwd"
   ]
  },
  {
   "cell_type": "code",
   "execution_count": null,
   "id": "41bb51f4",
   "metadata": {},
   "outputs": [],
   "source": []
  }
 ],
 "metadata": {
  "kernelspec": {
   "display_name": "Python 3",
   "language": "python",
   "name": "python3"
  },
  "language_info": {
   "codemirror_mode": {
    "name": "ipython",
    "version": 3
   },
   "file_extension": ".py",
   "mimetype": "text/x-python",
   "name": "python",
   "nbconvert_exporter": "python",
   "pygments_lexer": "ipython3",
   "version": "3.8.8"
  }
 },
 "nbformat": 4,
 "nbformat_minor": 5
}
